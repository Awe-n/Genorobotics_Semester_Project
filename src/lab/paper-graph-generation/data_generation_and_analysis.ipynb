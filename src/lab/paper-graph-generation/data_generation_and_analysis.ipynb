{
 "cells": [
  {
   "cell_type": "code",
   "execution_count": null,
   "metadata": {},
   "outputs": [],
   "source": [
    "from lib.streaming.streaming import run_streaming\n",
    "import os"
   ]
  },
  {
   "cell_type": "code",
   "execution_count": null,
   "metadata": {},
   "outputs": [],
   "source": [
    "# input_fastq_filename = \"test-combined.fastq\"\n",
    "input_fastq_filename = \"rbcL_Qiagen_tomato_5000.fastq\"\n",
    "windows = False\n",
    "db = \"matK\""
   ]
  },
  {
   "cell_type": "code",
   "execution_count": null,
   "metadata": {},
   "outputs": [],
   "source": [
    "input_fastq_path = os.path.join(\"assets\",\"input\", input_fastq_filename)\n",
    "base_name = os.path.splitext(input_fastq_filename)[0]"
   ]
  },
  {
   "cell_type": "code",
   "execution_count": null,
   "metadata": {},
   "outputs": [],
   "source": [
    "# choose a streaming method between the following:\n",
    "# - \"basic_streaming\"\n",
    "\n",
    "streaming_method = \"basic_streaming\"\n",
    "\n",
    "# choose a consensus method between the following:\n",
    "# - \"80_20_best_sequence\"\n",
    "# - \"80_20_longest_sequence\"\n",
    "# - \"straightforward_best_sequence\"\n",
    "\n",
    "consensus_method = \"80_20_best_sequence\"\n",
    "\n",
    "# choose an identification method between the following:\n",
    "# - \"blastn\"\n",
    "\n",
    "identification_method = \"blastn\""
   ]
  },
  {
   "cell_type": "code",
   "execution_count": null,
   "metadata": {},
   "outputs": [],
   "source": [
    "def run_multiple_times(block_sizes, num_runs):\n",
    "    for size in block_sizes:\n",
    "        for _ in range(num_runs):\n",
    "            # Run the streaming function\n",
    "            run_streaming(input_name=base_name,\n",
    "                          input_fastq_path=input_fastq_path,\n",
    "                          streaming_method=streaming_method,\n",
    "                          db=db,\n",
    "                          windows=windows,\n",
    "                          species_identification_percentage_dominance=0.7,\n",
    "                          block_size=size,\n",
    "                          minimum_block_amount_before_dominance_check=5,\n",
    "                          consensus_method=consensus_method,\n",
    "                          identification_method=identification_method)"
   ]
  },
  {
   "cell_type": "code",
   "execution_count": null,
   "metadata": {},
   "outputs": [],
   "source": [
    "# Define block sizes and number of runs\n",
    "block_sizes = [50, 100, 200, 500, 1000]\n",
    "num_runs = 10\n",
    "\n",
    "# Run the function and get results\n",
    "run_multiple_times(block_sizes, num_runs)"
   ]
  },
  {
   "cell_type": "code",
   "execution_count": null,
   "metadata": {},
   "outputs": [],
   "source": [
    "import json\n",
    "import matplotlib.pyplot as plt\n",
    "\n",
    "streaming_data_json = open(\"data.json\").read()\n",
    "\n",
    "def plot_blocks_completed(data):\n",
    "    block_data = json.loads(data)\n",
    "    plt.figure(figsize=(10, 6))\n",
    "\n",
    "    # Initial dummy plots for legend (correct and incorrect identification)\n",
    "    plt.scatter([], [], color='green', label='Correct Species Identification')\n",
    "    plt.scatter([], [], color='red', label='Incorrect Species Identification')\n",
    "\n",
    "    for block_length, iterations in block_data.items():\n",
    "        x = []  # Iterations\n",
    "        y = []  # Blocks completed\n",
    "\n",
    "        for iteration in iterations:\n",
    "            x.append(iteration['iteration'])\n",
    "            y.append(iteration['blocks_completed'])\n",
    "\n",
    "            # Check if the correct species was identified\n",
    "            correct_species_identified = any(species == \"Solanum lycopersicum\" for species in iteration['identified_species'])\n",
    "\n",
    "            # Plot each point with the appropriate color\n",
    "            plt.scatter(iteration['iteration'], iteration['blocks_completed'], \n",
    "                        color='green' if correct_species_identified else 'red')\n",
    "\n",
    "        # Plot lines for each block length\n",
    "        plt.plot(x, y, label=f\"{block_length} - Total Blocks\")\n",
    "\n",
    "    plt.xlabel('Iteration')\n",
    "    plt.ylabel('Blocks Completed')\n",
    "    plt.title('Blocks Completed per Iteration for Different Block Lengths')\n",
    "    plt.legend()\n",
    "    plt.show()\n",
    "\n",
    "plot_blocks_completed(streaming_data_json)"
   ]
  },
  {
   "cell_type": "code",
   "execution_count": null,
   "metadata": {},
   "outputs": [],
   "source": [
    "import json\n",
    "import matplotlib.pyplot as plt\n",
    "\n",
    "streaming_data_json = open(\"data.json\").read()\n",
    "\n",
    "def plot_alignment(data):\n",
    "    block_data = json.loads(data)\n",
    "    plt.figure(figsize=(10, 6))\n",
    "\n",
    "    for block_length, iterations in block_data.items():\n",
    "        x_correct = []  # iterations: correct species\n",
    "        y_correct = []  # average_alignment: correct species\n",
    "\n",
    "        x_incorrect = []  # iterations: incorrect species\n",
    "        y_incorrect = []  # average_alignment: incorrect species\n",
    "\n",
    "        for iteration in iterations:\n",
    "            for identified_species in iteration['identified_species']:\n",
    "                iteration_value = int(iteration['iteration'])  # Convert iteration to integer\n",
    "\n",
    "                if identified_species == \"Solanum lycopersicum\":\n",
    "                    x_correct.append(iteration_value)\n",
    "                    y_correct.append(iteration['identified_species'][identified_species]['average_alignment'])\n",
    "\n",
    "                if identified_species != \"Solanum lycopersicum\":\n",
    "                    x_incorrect.append(iteration_value)\n",
    "                    y_incorrect.append(iteration['identified_species'][identified_species]['average_alignment'])\n",
    "\n",
    "        plt.plot(x_correct, y_correct, label=f\"{block_length} - Correct Species\", color='green')\n",
    "        plt.plot(x_incorrect, y_incorrect, label=f\"{block_length} - Incorrect Species\", color='red')\n",
    "\n",
    "    plt.xlabel('Iteration')\n",
    "    plt.ylabel('Average Alignment')\n",
    "    plt.title('Average Alignment per Iteration for Different Block Lengths')\n",
    "    \n",
    "    # Adjusting legend position\n",
    "    plt.legend(loc='upper center', bbox_to_anchor=(0.5, -0.15), ncol=2)\n",
    "\n",
    "    plt.show()\n",
    "\n",
    "plot_alignment(streaming_data_json)"
   ]
  }
 ],
 "metadata": {
  "language_info": {
   "name": "python"
  }
 },
 "nbformat": 4,
 "nbformat_minor": 2
}
