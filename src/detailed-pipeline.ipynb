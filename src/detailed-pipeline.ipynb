{
 "cells": [
  {
   "cell_type": "markdown",
   "metadata": {},
   "source": [
    "# Jupyter Notebook GenoRobotics Full Pipeline"
   ]
  },
  {
   "cell_type": "markdown",
   "metadata": {},
   "source": [
    "## Imports"
   ]
  },
  {
   "cell_type": "code",
   "execution_count": 1,
   "metadata": {},
   "outputs": [],
   "source": [
    "import os\n",
    "\n",
    "from lib.consensus.consensus import run_consensus\n",
    "from lib.identification.identification import run_identification"
   ]
  },
  {
   "cell_type": "markdown",
   "metadata": {},
   "source": [
    "## Define Your File and Folder Paths\n",
    "\n",
    "- Modify the \"input_src\" variable to point to the directory containing the input files. \n",
    "  \n",
    "- Modify the \"output_src\" variable to point to the directory where you want the output files to be saved."
   ]
  },
  {
   "cell_type": "code",
   "execution_count": 2,
   "metadata": {},
   "outputs": [],
   "source": [
    "input_fastq_filename = \"test-combined.fastq\"\n",
    "# input_fastq_filename = \"rbcL_Qiagen_tomato_5000.fastq\"\n",
    "input_fastq_path = f\"assets/input/{input_fastq_filename}\"\n",
    "base_name = os.path.splitext(input_fastq_filename)[0]\n",
    "\n",
    "output_base_dir = \"assets/output\"\n",
    "output_dir = os.path.join(output_base_dir, base_name)\n",
    "os.makedirs(output_dir, exist_ok=True)"
   ]
  },
  {
   "cell_type": "markdown",
   "metadata": {},
   "source": [
    "## Run Preprocessing (Optional)"
   ]
  },
  {
   "cell_type": "code",
   "execution_count": 3,
   "metadata": {},
   "outputs": [],
   "source": [
    "# preprocessing()"
   ]
  },
  {
   "cell_type": "markdown",
   "metadata": {},
   "source": [
    "## Run Consensus Sequence Generation\n",
    "\n",
    "Select which consensus sequence generation method you want to use by setting the \"consensus_method\" variable to either:\n",
    "\n",
    "- \"majority\" (default)\n",
    "\n",
    "- \"consensus\"\n",
    "\n",
    "- \"consensus_with_ambiguities\""
   ]
  },
  {
   "cell_type": "code",
   "execution_count": 4,
   "metadata": {},
   "outputs": [
    {
     "name": "stdout",
     "output_type": "stream",
     "text": [
      "Running consensus pipeline... /n\n",
      "Running consensus pipeline with 80_20_best_sequence method...\n",
      "Minimap2 alignment took 0.79 seconds.\n",
      "Total Racon iterations took 493.91 seconds.\n",
      "Total time taken for the consensus pipeline: 494.70 seconds.\n"
     ]
    }
   ],
   "source": [
    "# choose a consensus method between the following:\n",
    "# - \"80_20_best_sequence\"\n",
    "# - \"80_20_longest_sequence\"\n",
    "# - \"streaming\"\n",
    "# - \"streaming_wip\"\n",
    "\n",
    "# consensus_method = \"streaming\"\n",
    "consensus_method = \"streaming_wip\"\n",
    "# consensus_method = \"80_20_best_sequence\"\n",
    "\n",
    "run_consensus(input_name= base_name, \n",
    "              input_fastq_path=input_fastq_path, \n",
    "              output_dir=output_dir, \n",
    "              consensus_method=consensus_method)"
   ]
  },
  {
   "cell_type": "markdown",
   "metadata": {},
   "source": [
    "## Run Idenfitication of Consensus Sequence"
   ]
  },
  {
   "cell_type": "code",
   "execution_count": 5,
   "metadata": {},
   "outputs": [
    {
     "ename": "TypeError",
     "evalue": "run_identification() missing 2 required positional arguments: 'input_name' and 'output_dir'",
     "output_type": "error",
     "traceback": [
      "\u001b[0;31m---------------------------------------------------------------------------\u001b[0m",
      "\u001b[0;31mTypeError\u001b[0m                                 Traceback (most recent call last)",
      "Cell \u001b[0;32mIn[5], line 1\u001b[0m\n\u001b[0;32m----> 1\u001b[0m \u001b[43mrun_identification\u001b[49m\u001b[43m(\u001b[49m\u001b[43m)\u001b[49m\n",
      "\u001b[0;31mTypeError\u001b[0m: run_identification() missing 2 required positional arguments: 'input_name' and 'output_dir'"
     ]
    }
   ],
   "source": [
    "run_identification()"
   ]
  }
 ],
 "metadata": {
  "kernelspec": {
   "display_name": "base",
   "language": "python",
   "name": "python3"
  },
  "language_info": {
   "codemirror_mode": {
    "name": "ipython",
    "version": 3
   },
   "file_extension": ".py",
   "mimetype": "text/x-python",
   "name": "python",
   "nbconvert_exporter": "python",
   "pygments_lexer": "ipython3",
   "version": "3.10.11"
  }
 },
 "nbformat": 4,
 "nbformat_minor": 2
}
