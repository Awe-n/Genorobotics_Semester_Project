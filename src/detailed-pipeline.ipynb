{
 "cells": [
  {
   "cell_type": "markdown",
   "metadata": {},
   "source": [
    "# Jupyter Notebook GenoRobotics Full Pipeline"
   ]
  },
  {
   "cell_type": "markdown",
   "metadata": {},
   "source": [
    "## Imports"
   ]
  },
  {
   "cell_type": "code",
   "execution_count": 13,
   "metadata": {},
   "outputs": [
    {
     "name": "stdout",
     "output_type": "stream",
     "text": [
      "The autoreload extension is already loaded. To reload it, use:\n",
      "  %reload_ext autoreload\n"
     ]
    }
   ],
   "source": [
    "%load_ext autoreload\n",
    "%autoreload 2"
   ]
  },
  {
   "cell_type": "code",
   "execution_count": 14,
   "metadata": {},
   "outputs": [],
   "source": [
    "import os\n",
    "\n",
    "from lib.consensus.consensus import run_consensus\n",
    "from lib.identification.identification import run_identification\n",
    "from lib.general_helpers.process_fastq import concatenate_fastq"
   ]
  },
  {
   "cell_type": "markdown",
   "metadata": {},
   "source": [
    "## Define Your File and Folder Paths\n",
    "\n",
    "- Modify the \"input_fastq_filename\" variable to point to the fastq you want to use as input. \n",
    "  \n",
    "- Modify windows if you're on Windows and want to use WSL."
   ]
  },
  {
   "cell_type": "code",
   "execution_count": 15,
   "metadata": {},
   "outputs": [],
   "source": [
    "input_fastq_filename = \"rbcL_Qiagen_tomato_5000.fastq\"\n",
    "windows = True"
   ]
  },
  {
   "cell_type": "code",
   "execution_count": 16,
   "metadata": {},
   "outputs": [],
   "source": [
    "input_fastq_path = os.path.join(\"assets\",\"input\", input_fastq_filename)\n",
    "base_name = os.path.splitext(input_fastq_filename)[0]"
   ]
  },
  {
   "cell_type": "markdown",
   "metadata": {},
   "source": [
    "## Run Preprocessing (Optional)\n",
    "\n",
    "- If you want to preprocess your data, run the following cell. Otherwise, skip to the next cell.\n",
    "- For now, preprocessing consists of concatenating all the fastq files in a folder into one file. This is useful if you have multiple fastq files for one sample. You'll have to change the first parameter in the \"concatenate_fastq_files\" function to point to the folder containing your fastq files."
   ]
  },
  {
   "cell_type": "code",
   "execution_count": 17,
   "metadata": {},
   "outputs": [],
   "source": [
    "# preprocessing()\n",
    "#concatenate_fastq(os.path.join(\"assets\", \"input\", \"barcode74\"), input_fastq_path)"
   ]
  },
  {
   "cell_type": "markdown",
   "metadata": {},
   "source": [
    "## Run Consensus Sequence Generation\n",
    "\n",
    "Select which consensus sequence generation method you want to use by setting the \"consensus_method\" variable to either:\n",
    "\n",
    "- \"majority\" (default)\n",
    "\n",
    "- \"consensus\"\n",
    "\n",
    "- \"consensus_with_ambiguities\""
   ]
  },
  {
   "cell_type": "code",
   "execution_count": 18,
   "metadata": {},
   "outputs": [
    {
     "name": "stdout",
     "output_type": "stream",
     "text": [
      "Running consensus pipeline... /n\n",
      "Running consensus pipeline with 80_20_best_sequence method...\n",
      "Minimap2 alignment took 0.06 seconds.\n",
      "Total Racon iterations took 14.53 seconds.\n",
      "Total time taken for the consensus pipeline: 14.59 seconds.\n"
     ]
    },
    {
     "name": "stdout",
     "output_type": "stream",
     "text": [
      "Minimap2 alignment took 3.26 seconds.\n",
      "Total Racon iterations took 6.34 seconds.\n",
      "Total time taken for the consensus pipeline: 9.61 seconds.\n"
     ]
    }
   ],
   "source": [
    "# choose a consensus method between the following:\n",
    "# - \"80_20_best_sequence\"\n",
    "# - \"80_20_longest_sequence\"\n",
    "# - \"streaming\"\n",
    "# - \"streaming_wip\"\n",
    "\n",
    "# consensus_method = \"streaming\"\n",
    "# consensus_method = \"streaming_wip\"\n",
    "consensus_method = \"80_20_best_sequence\"\n",
    "\n",
    "run_consensus(input_name= base_name, \n",
    "              input_fastq_path= input_fastq_path, \n",
    "              consensus_method= consensus_method,\n",
    "              windows = windows)"
   ]
  },
  {
   "cell_type": "markdown",
   "metadata": {},
   "source": [
    "## Run Identification of Consensus Sequence\n",
    "- Run the following cell to identify the consensus sequence.\n",
    "- Change db to the database you want to use. Options are \"matK\", \"rbcL\", \"psbA-trnH\" and \"ITS\". If you want to use all of them, set db to None."
   ]
  },
  {
   "cell_type": "code",
   "execution_count": 19,
   "metadata": {},
   "outputs": [
    {
     "name": "stdout",
     "output_type": "stream",
     "text": [
      "Running identification pipeline... /n\n",
      "You can find identification output at assets/output/blastn/rbcL_Qiagen_tomato_5000\n"
     ]
    },
    {
     "ename": "ValueError",
     "evalue": "Your XML file was empty",
     "output_type": "error",
     "traceback": [
      "\u001b[0;31m---------------------------------------------------------------------------\u001b[0m",
      "\u001b[0;31mValueError\u001b[0m                                Traceback (most recent call last)",
      "Cell \u001b[0;32mIn[93], line 4\u001b[0m\n\u001b[1;32m      1\u001b[0m \u001b[38;5;66;03m# Choose your db along the gene you're trying to identify : matK, rbcL, psbA-trnH or ITS\u001b[39;00m\n\u001b[1;32m      2\u001b[0m db \u001b[38;5;241m=\u001b[39m \u001b[38;5;124m\"\u001b[39m\u001b[38;5;124mmatK\u001b[39m\u001b[38;5;124m\"\u001b[39m\n\u001b[0;32m----> 4\u001b[0m \u001b[43mrun_identification\u001b[49m\u001b[43m(\u001b[49m\u001b[43minput_name\u001b[49m\u001b[38;5;241;43m=\u001b[39;49m\u001b[43m \u001b[49m\u001b[43mbase_name\u001b[49m\u001b[43m,\u001b[49m\u001b[43m \u001b[49m\n\u001b[1;32m      5\u001b[0m \u001b[43m                   \u001b[49m\u001b[43moutput_dir\u001b[49m\u001b[38;5;241;43m=\u001b[39;49m\u001b[43m \u001b[49m\u001b[43moutput_base_dir\u001b[49m\u001b[43m)\u001b[49m\n",
      "File \u001b[0;32m~/Documents/University, EPFL, Master/MA3/Genorobotics/Code/awenMilouGeno/src/lib/identification/identification.py:21\u001b[0m, in \u001b[0;36mrun_identification\u001b[0;34m(input_name, expedition_name, input_path, output_dir, db)\u001b[0m\n\u001b[1;32m     19\u001b[0m xml_files \u001b[38;5;241m=\u001b[39m identification_pipeline_blastn(logger, input_name, expedition_name, input_path, db)\n\u001b[1;32m     20\u001b[0m \u001b[38;5;28;01mfor\u001b[39;00m xml_file, db \u001b[38;5;129;01min\u001b[39;00m xml_files:\n\u001b[0;32m---> 21\u001b[0m     best_species \u001b[38;5;241m=\u001b[39m \u001b[43mget_best_species_from_xml\u001b[49m\u001b[43m(\u001b[49m\u001b[43mxml_file\u001b[49m\u001b[43m)\u001b[49m\n\u001b[1;32m     22\u001b[0m     logger\u001b[38;5;241m.\u001b[39minfo(\u001b[38;5;124mf\u001b[39m\u001b[38;5;124m\"\u001b[39m\u001b[38;5;124mBest species for \u001b[39m\u001b[38;5;132;01m{\u001b[39;00mdb\u001b[38;5;132;01m}\u001b[39;00m\u001b[38;5;124m is \u001b[39m\u001b[38;5;132;01m{\u001b[39;00mbest_species[\u001b[38;5;241m0\u001b[39m]\u001b[38;5;132;01m}\u001b[39;00m\u001b[38;5;124m with alignment \u001b[39m\u001b[38;5;132;01m{\u001b[39;00mbest_species[\u001b[38;5;241m1\u001b[39m][\u001b[38;5;241m0\u001b[39m]\u001b[38;5;132;01m}\u001b[39;00m\u001b[38;5;124m and evalue \u001b[39m\u001b[38;5;132;01m{\u001b[39;00mbest_species[\u001b[38;5;241m1\u001b[39m][\u001b[38;5;241m1\u001b[39m]\u001b[38;5;132;01m}\u001b[39;00m\u001b[38;5;124m\"\u001b[39m)\n\u001b[1;32m     23\u001b[0m     \u001b[38;5;28mprint\u001b[39m(\u001b[38;5;124mf\u001b[39m\u001b[38;5;124m\"\u001b[39m\u001b[38;5;124mBest species for \u001b[39m\u001b[38;5;132;01m{\u001b[39;00mdb\u001b[38;5;132;01m}\u001b[39;00m\u001b[38;5;124m is \u001b[39m\u001b[38;5;132;01m{\u001b[39;00mbest_species[\u001b[38;5;241m0\u001b[39m]\u001b[38;5;132;01m}\u001b[39;00m\u001b[38;5;124m with alignment \u001b[39m\u001b[38;5;132;01m{\u001b[39;00mbest_species[\u001b[38;5;241m1\u001b[39m][\u001b[38;5;241m0\u001b[39m]\u001b[38;5;132;01m}\u001b[39;00m\u001b[38;5;124m and evalue \u001b[39m\u001b[38;5;132;01m{\u001b[39;00mbest_species[\u001b[38;5;241m1\u001b[39m][\u001b[38;5;241m1\u001b[39m]\u001b[38;5;132;01m}\u001b[39;00m\u001b[38;5;124m\"\u001b[39m)\n",
      "File \u001b[0;32m~/Documents/University, EPFL, Master/MA3/Genorobotics/Code/awenMilouGeno/src/lib/identification/identification_pipelines/identification_processing.py:73\u001b[0m, in \u001b[0;36mget_best_species_from_xml\u001b[0;34m(input_xml)\u001b[0m\n\u001b[1;32m     69\u001b[0m \u001b[38;5;28;01mdef\u001b[39;00m \u001b[38;5;21mget_best_species_from_xml\u001b[39m(input_xml: \u001b[38;5;28mstr\u001b[39m) \u001b[38;5;241m-\u001b[39m\u001b[38;5;241m>\u001b[39m \u001b[38;5;28mtuple\u001b[39m[\u001b[38;5;28mstr\u001b[39m, \u001b[38;5;28mtuple\u001b[39m[\u001b[38;5;28mint\u001b[39m, \u001b[38;5;28mint\u001b[39m]] :\n\u001b[1;32m     70\u001b[0m \u001b[38;5;250m    \u001b[39m\u001b[38;5;124;03m\"\"\"\u001b[39;00m\n\u001b[1;32m     71\u001b[0m \u001b[38;5;124;03m    Returns the best species from the results of the blastn\u001b[39;00m\n\u001b[1;32m     72\u001b[0m \u001b[38;5;124;03m    \"\"\"\u001b[39;00m\n\u001b[0;32m---> 73\u001b[0m     results \u001b[38;5;241m=\u001b[39m \u001b[43mparse_blastn_xml\u001b[49m\u001b[43m(\u001b[49m\u001b[43minput_xml\u001b[49m\u001b[43m)\u001b[49m\n\u001b[1;32m     74\u001b[0m     species \u001b[38;5;241m=\u001b[39m separate_by_species(results)\n\u001b[1;32m     75\u001b[0m     reduced_results \u001b[38;5;241m=\u001b[39m reduce_species_results(species)\n",
      "File \u001b[0;32m~/Documents/University, EPFL, Master/MA3/Genorobotics/Code/awenMilouGeno/src/lib/identification/identification_pipelines/identification_processing.py:13\u001b[0m, in \u001b[0;36mparse_blastn_xml\u001b[0;34m(input_xml)\u001b[0m\n\u001b[1;32m     11\u001b[0m blast_records \u001b[38;5;241m=\u001b[39m NCBIXML\u001b[38;5;241m.\u001b[39mparse(file)\n\u001b[1;32m     12\u001b[0m results \u001b[38;5;241m=\u001b[39m []\n\u001b[0;32m---> 13\u001b[0m \u001b[38;5;28;01mfor\u001b[39;00m blast_record \u001b[38;5;129;01min\u001b[39;00m blast_records:\n\u001b[1;32m     14\u001b[0m     \u001b[38;5;28;01mfor\u001b[39;00m alignment \u001b[38;5;129;01min\u001b[39;00m blast_record\u001b[38;5;241m.\u001b[39malignments:\n\u001b[1;32m     15\u001b[0m         \u001b[38;5;28;01mfor\u001b[39;00m hsp \u001b[38;5;129;01min\u001b[39;00m alignment\u001b[38;5;241m.\u001b[39mhsps:\n",
      "File \u001b[0;32m~/opt/anaconda3/envs/GenoRobotics_bioinfo_consensus/lib/python3.10/site-packages/Bio/Blast/NCBIXML.py:799\u001b[0m, in \u001b[0;36mparse\u001b[0;34m(handle, debug)\u001b[0m\n\u001b[1;32m    795\u001b[0m     pending \u001b[38;5;241m=\u001b[39m \u001b[38;5;124mb\u001b[39m\u001b[38;5;124m\"\u001b[39m\u001b[38;5;124m\"\u001b[39m\n\u001b[1;32m    797\u001b[0m \u001b[38;5;28;01mif\u001b[39;00m \u001b[38;5;129;01mnot\u001b[39;00m text:\n\u001b[1;32m    798\u001b[0m     \u001b[38;5;66;03m# NO DATA FOUND!\u001b[39;00m\n\u001b[0;32m--> 799\u001b[0m     \u001b[38;5;28;01mraise\u001b[39;00m \u001b[38;5;167;01mValueError\u001b[39;00m(\u001b[38;5;124m\"\u001b[39m\u001b[38;5;124mYour XML file was empty\u001b[39m\u001b[38;5;124m\"\u001b[39m)\n\u001b[1;32m    801\u001b[0m \u001b[38;5;28;01mwhile\u001b[39;00m text:\n\u001b[1;32m    802\u001b[0m     \u001b[38;5;66;03m# We are now starting a new XML file\u001b[39;00m\n\u001b[1;32m    803\u001b[0m     \u001b[38;5;28;01mif\u001b[39;00m \u001b[38;5;129;01mnot\u001b[39;00m text\u001b[38;5;241m.\u001b[39mstartswith(XML_START):\n",
      "\u001b[0;31mValueError\u001b[0m: Your XML file was empty"
     ]
    }
   ],
   "source": [
    "# Choose your db along the gene you're trying to identify : matK, rbcL, psbA-trnH or ITS\n",
    "db = \"matK\"\n",
    "\n",
    "run_identification(base_name, db=db)"
   ]
  },
  {
   "cell_type": "code",
   "execution_count": null,
   "metadata": {},
   "outputs": [],
   "source": []
  }
 ],
 "metadata": {
  "kernelspec": {
   "display_name": "base",
   "language": "python",
   "name": "python3"
  },
  "language_info": {
   "codemirror_mode": {
    "name": "ipython",
    "version": 3
   },
   "file_extension": ".py",
   "mimetype": "text/x-python",
   "name": "python",
   "nbconvert_exporter": "python",
   "pygments_lexer": "ipython3",
   "version": "3.11.5"
  }
 },
 "nbformat": 4,
 "nbformat_minor": 2
}
