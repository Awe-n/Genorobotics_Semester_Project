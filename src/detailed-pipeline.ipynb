{
 "cells": [
  {
   "cell_type": "markdown",
   "metadata": {},
   "source": [
    "# Jupyter Notebook GenoRobotics Full Pipeline"
   ]
  },
  {
   "cell_type": "markdown",
   "metadata": {},
   "source": [
    "## Imports"
   ]
  },
  {
   "cell_type": "code",
   "execution_count": 1,
   "metadata": {},
   "outputs": [],
   "source": [
    "%load_ext autoreload\n",
    "%autoreload 2"
   ]
  },
  {
   "cell_type": "code",
   "execution_count": 2,
   "metadata": {},
   "outputs": [
    {
     "name": "stderr",
     "output_type": "stream",
     "text": [
      "c:\\Users\\milou\\anaconda3\\Lib\\site-packages\\Bio\\pairwise2.py:278: BiopythonDeprecationWarning: Bio.pairwise2 has been deprecated, and we intend to remove it in a future release of Biopython. As an alternative, please consider using Bio.Align.PairwiseAligner as a replacement, and contact the Biopython developers if you still need the Bio.pairwise2 module.\n",
      "  warnings.warn(\n"
     ]
    }
   ],
   "source": [
    "import os\n",
    "\n",
    "from lib.consensus.consensus import run_consensus\n",
    "from lib.identification.identification import run_identification"
   ]
  },
  {
   "cell_type": "markdown",
   "metadata": {},
   "source": [
    "## Define Your File and Folder Paths\n",
    "\n",
    "- Modify the \"input_src\" variable to point to the directory containing the input files. \n",
    "  \n",
    "- Modify the \"output_src\" variable to point to the directory where you want the output files to be saved."
   ]
  },
  {
   "cell_type": "code",
   "execution_count": 3,
   "metadata": {},
   "outputs": [],
   "source": [
    "input_fastq_filename = \"rbcL_Qiagen_tomato_5000.fastq\"\n",
    "input_fastq_path = os.path.join(\"assets\",\"input\", input_fastq_filename)\n",
    "base_name = os.path.splitext(input_fastq_filename)[0]\n",
    "\n",
    "output_base_dir = os.path.join('assets','output')\n",
    "output_dir = os.path.join(output_base_dir, base_name)\n",
    "os.makedirs(output_dir, exist_ok=True)"
   ]
  },
  {
   "cell_type": "markdown",
   "metadata": {},
   "source": [
    "## Run Preprocessing (Optional)"
   ]
  },
  {
   "cell_type": "code",
   "execution_count": 3,
   "metadata": {},
   "outputs": [],
   "source": [
    "# preprocessing()"
   ]
  },
  {
   "cell_type": "markdown",
   "metadata": {},
   "source": [
    "## Run Consensus Sequence Generation\n",
    "\n",
    "Select which consensus sequence generation method you want to use by setting the \"consensus_method\" variable to either:\n",
    "\n",
    "- \"majority\" (default)\n",
    "\n",
    "- \"consensus\"\n",
    "\n",
    "- \"consensus_with_ambiguities\""
   ]
  },
  {
   "cell_type": "code",
   "execution_count": 5,
   "metadata": {},
   "outputs": [
    {
     "name": "stdout",
     "output_type": "stream",
     "text": [
      "Running consensus pipeline...\n",
      "Running consensus pipeline with 80_20_best_sequence method...\n",
      "Running read alignment with minimap2 on top 20% sequences...\n"
     ]
    },
    {
     "name": "stderr",
     "output_type": "stream",
     "text": [
      "ERROR:root:Error: [M::mm_idx_gen::0.099*0.37] collected minimizers\n",
      "[M::mm_idx_gen::0.111*0.59] sorted minimizers\n",
      "[M::main::0.111*0.59] loaded/built the index for 1000 target sequence(s)\n",
      "[M::mm_mapopt_update::0.113*0.59] mid_occ = 608\n",
      "[M::mm_idx_stat] kmer size: 15; skip: 5; is_hpc: 0; #seq: 1000\n",
      "[M::mm_idx_stat::0.114*0.59] distinct minimizers: 61942 (78.57% are singletons); average occurrences: 3.831; average spacing: 2.966; total length: 703802\n",
      "[M::worker_pipeline::2.593*2.53] mapped 1000 sequences\n",
      "[M::main] Version: 2.24-r1122\n",
      "[M::main] CMD: minimap2 -x ava-ont assets/output/rbcL_Qiagen_tomato_5000/rbcL_Qiagen_tomato_5000_top20.fastq assets/output/rbcL_Qiagen_tomato_5000/rbcL_Qiagen_tomato_5000_top20.fastq\n",
      "[M::main] Real time: 2.605 sec; CPU: 6.569 sec; Peak RSS: 0.062 GB\n",
      "\n"
     ]
    },
    {
     "name": "stdout",
     "output_type": "stream",
     "text": [
      "Generating consensus sequence with racon on top 20% sequences...\n"
     ]
    },
    {
     "name": "stderr",
     "output_type": "stream",
     "text": [
      "ERROR:root:Error: [racon::Polisher::initialize] loaded target sequences 0.017505 s\n",
      "[racon::Polisher::initialize] loaded sequences 0.022180 s\n",
      "[racon::Polisher::initialize] loaded overlaps 1.056981 s\n",
      "[racon::Polisher::initialize] aligning overlaps [=>                  ] 0.049785 s\n",
      "[racon::Polisher::initialize] aligning overlaps [==>                 ] 0.057227 s\n",
      "[racon::Polisher::initialize] aligning overlaps [===>                ] 0.062695 s\n",
      "[racon::Polisher::initialize] aligning overlaps [====>               ] 0.067247 s\n",
      "[racon::Polisher::initialize] aligning overlaps [=====>              ] 0.071263 s\n",
      "[racon::Polisher::initialize] aligning overlaps [======>             ] 0.075567 s\n",
      "[racon::Polisher::initialize] aligning overlaps [=======>            ] 0.079205 s\n",
      "[racon::Polisher::initialize] aligning overlaps [========>           ] 0.083397 s\n",
      "[racon::Polisher::initialize] aligning overlaps [=========>          ] 0.087486 s\n",
      "[racon::Polisher::initialize] aligning overlaps [==========>         ] 0.092382 s\n",
      "[racon::Polisher::initialize] aligning overlaps [===========>        ] 0.096429 s\n",
      "[racon::Polisher::initialize] aligning overlaps [============>       ] 0.100111 s\n",
      "[racon::Polisher::initialize] aligning overlaps [=============>      ] 0.104464 s\n",
      "[racon::Polisher::initialize] aligning overlaps [==============>     ] 0.108389 s\n",
      "[racon::Polisher::initialize] aligning overlaps [===============>    ] 0.112729 s\n",
      "[racon::Polisher::initialize] aligning overlaps [================>   ] 0.116785 s\n",
      "[racon::Polisher::initialize] aligning overlaps [=================>  ] 0.120332 s\n",
      "[racon::Polisher::initialize] aligning overlaps [==================> ] 0.123978 s\n",
      "[racon::Polisher::initialize] aligning overlaps [===================>] 0.127478 s\n",
      "[racon::Polisher::initialize] aligning overlaps [====================] 0.131448 s\n",
      "[racon::Polisher::initialize] transformed data into windows 0.001117 s\n",
      "[racon::Polisher::polish] generating consensus [=>                  ] 0.440261 s\n",
      "[racon::Polisher::polish] generating consensus [==>                 ] 0.593741 s\n",
      "[racon::Polisher::polish] generating consensus [===>                ] 0.633801 s\n",
      "[racon::Polisher::polish] generating consensus [====>               ] 0.638918 s\n",
      "[racon::Polisher::polish] generating consensus [=====>              ] 0.643724 s\n",
      "[racon::Polisher::polish] generating consensus [======>             ] 0.644908 s\n",
      "[racon::Polisher::polish] generating consensus [=======>            ] 0.648117 s\n",
      "[racon::Polisher::polish] generating consensus [========>           ] 0.648719 s\n",
      "[racon::Polisher::polish] generating consensus [=========>          ] 0.649031 s\n",
      "[racon::Polisher::polish] generating consensus [==========>         ] 0.650366 s\n",
      "[racon::Polisher::polish] generating consensus [===========>        ] 0.650447 s\n",
      "[racon::Polisher::polish] generating consensus [============>       ] 0.650523 s\n",
      "[racon::Polisher::polish] generating consensus [=============>      ] 0.651714 s\n",
      "[racon::Polisher::polish] generating consensus [==============>     ] 0.651839 s\n",
      "[racon::Polisher::polish] generating consensus [===============>    ] 0.652070 s\n",
      "[racon::Polisher::polish] generating consensus [================>   ] 0.652150 s\n",
      "[racon::Polisher::polish] generating consensus [=================>  ] 0.653237 s\n",
      "[racon::Polisher::polish] generating consensus [==================> ] 0.653260 s\n",
      "[racon::Polisher::polish] generating consensus [===================>] 0.653396 s\n",
      "[racon::Polisher::polish] generating consensus [====================] 0.654721 s\n",
      "[racon::Polisher::] total = 1.886810 s\n",
      "\n"
     ]
    },
    {
     "name": "stdout",
     "output_type": "stream",
     "text": [
      "Multiple sequences found in assets\\output\\rbcL_Qiagen_tomato_5000\\rbcL_Qiagen_tomato_5000_top20_consensus.fasta. Selecting the best alignment...\n",
      "Running read alignment with minimap2 on remaining 80% sequences...\n"
     ]
    },
    {
     "name": "stderr",
     "output_type": "stream",
     "text": [
      "ERROR:root:Error: [M::mm_idx_gen::0.043*0.23] collected minimizers\n",
      "[M::mm_idx_gen::0.043*0.23] sorted minimizers\n",
      "[M::main::0.044*0.23] loaded/built the index for 1 target sequence(s)\n",
      "[M::mm_mapopt_update::0.044*0.23] mid_occ = 10\n",
      "[M::mm_idx_stat] kmer size: 15; skip: 10; is_hpc: 0; #seq: 1\n",
      "[M::mm_idx_stat::0.044*0.24] distinct minimizers: 129 (100.00% are singletons); average occurrences: 1.000; average spacing: 5.961; total length: 769\n",
      "[M::worker_pipeline::0.302*0.32] mapped 4000 sequences\n",
      "[M::main] Version: 2.24-r1122\n",
      "[M::main] CMD: minimap2 -x map-ont assets/output/rbcL_Qiagen_tomato_5000/rbcL_Qiagen_tomato_5000_top20_consensus.fasta assets/output/rbcL_Qiagen_tomato_5000/rbcL_Qiagen_tomato_5000_remaining80.fastq\n",
      "[M::main] Real time: 0.313 sec; CPU: 0.097 sec; Peak RSS: 0.005 GB\n",
      "\n"
     ]
    },
    {
     "name": "stdout",
     "output_type": "stream",
     "text": [
      "Generating final consensus sequence with racon...\n"
     ]
    },
    {
     "name": "stderr",
     "output_type": "stream",
     "text": [
      "ERROR:root:Error: [racon::Polisher::initialize] loaded target sequences 0.001826 s\n",
      "[racon::Polisher::initialize] loaded sequences 0.060633 s\n",
      "[racon::Polisher::initialize] loaded overlaps 0.014488 s\n",
      "[racon::Polisher::initialize] aligning overlaps [=>                  ] 0.026338 s\n",
      "[racon::Polisher::initialize] aligning overlaps [==>                 ] 0.034707 s\n",
      "[racon::Polisher::initialize] aligning overlaps [===>                ] 0.042996 s\n",
      "[racon::Polisher::initialize] aligning overlaps [====>               ] 0.050167 s\n",
      "[racon::Polisher::initialize] aligning overlaps [=====>              ] 0.056922 s\n",
      "[racon::Polisher::initialize] aligning overlaps [======>             ] 0.063775 s\n",
      "[racon::Polisher::initialize] aligning overlaps [=======>            ] 0.069994 s\n",
      "[racon::Polisher::initialize] aligning overlaps [========>           ] 0.075623 s\n",
      "[racon::Polisher::initialize] aligning overlaps [=========>          ] 0.080656 s\n",
      "[racon::Polisher::initialize] aligning overlaps [==========>         ] 0.085429 s\n",
      "[racon::Polisher::initialize] aligning overlaps [===========>        ] 0.090099 s\n",
      "[racon::Polisher::initialize] aligning overlaps [============>       ] 0.094585 s\n",
      "[racon::Polisher::initialize] aligning overlaps [=============>      ] 0.098645 s\n",
      "[racon::Polisher::initialize] aligning overlaps [==============>     ] 0.103462 s\n",
      "[racon::Polisher::initialize] aligning overlaps [===============>    ] 0.107277 s\n",
      "[racon::Polisher::initialize] aligning overlaps [================>   ] 0.110831 s\n",
      "[racon::Polisher::initialize] aligning overlaps [=================>  ] 0.114129 s\n",
      "[racon::Polisher::initialize] aligning overlaps [==================> ] 0.117108 s\n",
      "[racon::Polisher::initialize] aligning overlaps [===================>] 0.120057 s\n",
      "[racon::Polisher::initialize] aligning overlaps [====================] 0.122826 s\n",
      "[racon::Polisher::initialize] transformed data into windows 0.001254 s\n",
      "[racon::Polisher::polish] generated consensus 4.952049 s\n",
      "[racon::Polisher::] total = 5.154822 s\n",
      "\n"
     ]
    },
    {
     "name": "stdout",
     "output_type": "stream",
     "text": [
      "Deleting intermediate files...\n",
      "Minimap2 alignment took 0.48 seconds.\n",
      "Total Racon iterations took 10.34 seconds.\n",
      "Total time taken for the pipeline: 10.82 seconds.\n"
     ]
    }
   ],
   "source": [
    "# choose a consensus method between the following:\n",
    "# - \"80_20_best_sequence\"\n",
    "# - \"80_20_longest_sequence\"\n",
    "\n",
    "#If you're on Windows and have to use WSL (Windows Subsystem for Linux), set wsl to True\n",
    "wsl = True\n",
    "\n",
    "run_consensus(input_name= base_name, \n",
    "              input_fastq_path=input_fastq_path, \n",
    "              output_dir=output_dir, \n",
    "              consensus_method=\"80_20_best_sequence\",\n",
    "              wsl = wsl)"
   ]
  },
  {
   "cell_type": "markdown",
   "metadata": {},
   "source": [
    "## Run Idenfitication of Consensus Sequence"
   ]
  },
  {
   "cell_type": "code",
   "execution_count": 90,
   "metadata": {},
   "outputs": [],
   "source": [
    "# Choose your db along the gene you're trying to identify : matK, rbcL, psbA-trnH or ITS\n",
    "db = None\n",
    "\n",
    "run_identification(base_name, db)"
   ]
  }
 ],
 "metadata": {
  "kernelspec": {
   "display_name": "base",
   "language": "python",
   "name": "python3"
  },
  "language_info": {
   "codemirror_mode": {
    "name": "ipython",
    "version": 3
   },
   "file_extension": ".py",
   "mimetype": "text/x-python",
   "name": "python",
   "nbconvert_exporter": "python",
   "pygments_lexer": "ipython3",
   "version": "3.11.5"
  }
 },
 "nbformat": 4,
 "nbformat_minor": 2
}
