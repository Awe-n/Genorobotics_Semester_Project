{
 "cells": [
  {
   "cell_type": "markdown",
   "metadata": {},
   "source": [
    "# Jupyter Notebook GenoRobotics Full Pipeline"
   ]
  },
  {
   "cell_type": "markdown",
   "metadata": {},
   "source": [
    "## Imports"
   ]
  },
  {
   "cell_type": "code",
   "execution_count": 1,
   "metadata": {},
   "outputs": [],
   "source": [
    "import os\n",
    "\n",
    "from lib.consensus.consensus import run_consensus\n",
    "from lib.identification.identification import run_identification"
   ]
  },
  {
   "cell_type": "markdown",
   "metadata": {},
   "source": [
    "## Define Your File and Folder Paths\n",
    "\n",
    "- Modify the \"input_src\" variable to point to the directory containing the input files. \n",
    "  \n",
    "- Modify the \"output_src\" variable to point to the directory where you want the output files to be saved."
   ]
  },
  {
   "cell_type": "code",
   "execution_count": 2,
   "metadata": {},
   "outputs": [],
   "source": [
    "input_fastq_filename = \"rbcL_Qiagen_tomato_5000.fastq\"\n",
    "input_fastq_path = f\"assets/input/{input_fastq_filename}\"\n",
    "base_name = os.path.splitext(input_fastq_filename)[0]\n",
    "\n",
    "output_base_dir = \"assets/output\"\n",
    "output_dir = os.path.join(output_base_dir, base_name)\n",
    "os.makedirs(output_dir, exist_ok=True)"
   ]
  },
  {
   "cell_type": "markdown",
   "metadata": {},
   "source": [
    "## Run Preprocessing (Optional)"
   ]
  },
  {
   "cell_type": "code",
   "execution_count": 3,
   "metadata": {},
   "outputs": [],
   "source": [
    "# preprocessing()"
   ]
  },
  {
   "cell_type": "markdown",
   "metadata": {},
   "source": [
    "## Run Consensus Sequence Generation\n",
    "\n",
    "Select which consensus sequence generation method you want to use by setting the \"consensus_method\" variable to either:\n",
    "\n",
    "- \"majority\" (default)\n",
    "\n",
    "- \"consensus\"\n",
    "\n",
    "- \"consensus_with_ambiguities\""
   ]
  },
  {
   "cell_type": "code",
   "execution_count": 4,
   "metadata": {},
   "outputs": [
    {
     "name": "stdout",
     "output_type": "stream",
     "text": [
      "Running read alignment with minimap2 on top 20% sequences...\n"
     ]
    },
    {
     "name": "stderr",
     "output_type": "stream",
     "text": [
      "ERROR:root:Error: [M::mm_idx_gen::0.024*1.28] collected minimizers\n",
      "[M::mm_idx_gen::0.037*1.87] sorted minimizers\n",
      "[M::main::0.037*1.87] loaded/built the index for 1000 target sequence(s)\n",
      "[M::mm_mapopt_update::0.038*1.84] mid_occ = 608\n",
      "[M::mm_idx_stat] kmer size: 15; skip: 5; is_hpc: 0; #seq: 1000\n",
      "[M::mm_idx_stat::0.039*1.82] distinct minimizers: 61942 (78.57% are singletons); average occurrences: 3.831; average spacing: 2.966; total length: 703802\n",
      "[M::worker_pipeline::2.814*2.69] mapped 1000 sequences\n",
      "[M::main] Version: 2.22-r1101\n",
      "[M::main] CMD: minimap2 -x ava-ont assets/output/rbcL_Qiagen_tomato_5000/rbcL_Qiagen_tomato_5000.fastq_top20.fastq assets/output/rbcL_Qiagen_tomato_5000/rbcL_Qiagen_tomato_5000.fastq_top20.fastq\n",
      "[M::main] Real time: 2.819 sec; CPU: 7.575 sec; Peak RSS: 0.068 GB\n",
      "\n"
     ]
    },
    {
     "name": "stdout",
     "output_type": "stream",
     "text": [
      "Generating consensus sequence with racon on top 20% sequences...\n"
     ]
    },
    {
     "name": "stderr",
     "output_type": "stream",
     "text": [
      "ERROR:root:Error: [racon::Polisher::initialize] loaded target sequences 0.007548 s\n",
      "[racon::Polisher::initialize] loaded sequences 0.007444 s\n",
      "[racon::Polisher::initialize] loaded overlaps 0.588765 s\n",
      "[racon::Polisher::initialize] aligning overlaps [=>                  ] 0.006336 s\n",
      "[racon::Polisher::initialize] aligning overlaps [==>                 ] 0.010554 s\n",
      "[racon::Polisher::initialize] aligning overlaps [===>                ] 0.014701 s\n",
      "[racon::Polisher::initialize] aligning overlaps [====>               ] 0.018939 s\n",
      "[racon::Polisher::initialize] aligning overlaps [=====>              ] 0.023358 s\n",
      "[racon::Polisher::initialize] aligning overlaps [======>             ] 0.027713 s\n",
      "[racon::Polisher::initialize] aligning overlaps [=======>            ] 0.032262 s\n",
      "[racon::Polisher::initialize] aligning overlaps [========>           ] 0.036623 s\n",
      "[racon::Polisher::initialize] aligning overlaps [=========>          ] 0.041003 s\n",
      "[racon::Polisher::initialize] aligning overlaps [==========>         ] 0.045326 s\n",
      "[racon::Polisher::initialize] aligning overlaps [===========>        ] 0.049772 s\n",
      "[racon::Polisher::initialize] aligning overlaps [============>       ] 0.054005 s\n",
      "[racon::Polisher::initialize] aligning overlaps [=============>      ] 0.058464 s\n",
      "[racon::Polisher::initialize] aligning overlaps [==============>     ] 0.062570 s\n",
      "[racon::Polisher::initialize] aligning overlaps [===============>    ] 0.066696 s\n",
      "[racon::Polisher::initialize] aligning overlaps [================>   ] 0.070632 s\n",
      "[racon::Polisher::initialize] aligning overlaps [=================>  ] 0.074658 s\n",
      "[racon::Polisher::initialize] aligning overlaps [==================> ] 0.078608 s\n",
      "[racon::Polisher::initialize] aligning overlaps [===================>] 0.082698 s\n",
      "[racon::Polisher::initialize] aligning overlaps [====================] 0.087314 s\n",
      "[racon::Polisher::initialize] transformed data into windows 0.009004 s\n",
      "[racon::Polisher::polish] generating consensus [=>                  ] 1.250673 s\n",
      "[racon::Polisher::polish] generating consensus [==>                 ] 1.811734 s\n",
      "[racon::Polisher::polish] generating consensus [===>                ] 1.937921 s\n",
      "[racon::Polisher::polish] generating consensus [====>               ] 1.952718 s\n",
      "[racon::Polisher::polish] generating consensus [=====>              ] 1.964731 s\n",
      "[racon::Polisher::polish] generating consensus [======>             ] 1.964961 s\n",
      "[racon::Polisher::polish] generating consensus [=======>            ] 1.975175 s\n",
      "[racon::Polisher::polish] generating consensus [========>           ] 1.979636 s\n",
      "[racon::Polisher::polish] generating consensus [=========>          ] 1.979899 s\n",
      "[racon::Polisher::polish] generating consensus [==========>         ] 1.980136 s\n",
      "[racon::Polisher::polish] generating consensus [===========>        ] 1.988454 s\n",
      "[racon::Polisher::polish] generating consensus [============>       ] 1.988678 s\n",
      "[racon::Polisher::polish] generating consensus [=============>      ] 1.992812 s\n",
      "[racon::Polisher::polish] generating consensus [==============>     ] 1.993087 s\n",
      "[racon::Polisher::polish] generating consensus [===============>    ] 1.993345 s\n",
      "[racon::Polisher::polish] generating consensus [================>   ] 1.993542 s\n",
      "[racon::Polisher::polish] generating consensus [=================>  ] 1.996685 s\n",
      "[racon::Polisher::polish] generating consensus [==================> ] 2.001010 s\n",
      "[racon::Polisher::polish] generating consensus [===================>] 2.001252 s\n",
      "[racon::Polisher::polish] generating consensus [====================] 2.005532 s\n",
      "[racon::Polisher::] total = 2.706469 s\n",
      "\n"
     ]
    },
    {
     "name": "stdout",
     "output_type": "stream",
     "text": [
      "Multiple sequences found in assets/output/rbcL_Qiagen_tomato_5000/rbcL_Qiagen_tomato_5000.fastq_top20_consensus.fasta. Selecting the best alignment...\n"
     ]
    },
    {
     "name": "stderr",
     "output_type": "stream",
     "text": [
      "ERROR:root:Error: [M::mm_idx_gen::0.001*8.10] collected minimizers\n",
      "[M::mm_idx_gen::0.002*4.99] sorted minimizers\n",
      "[M::main::0.002*4.97] loaded/built the index for 1 target sequence(s)\n",
      "[M::mm_mapopt_update::0.002*4.82] mid_occ = 10\n",
      "[M::mm_idx_stat] kmer size: 15; skip: 10; is_hpc: 0; #seq: 1\n",
      "[M::mm_idx_stat::0.002*4.73] distinct minimizers: 130 (100.00% are singletons); average occurrences: 1.000; average spacing: 6.031; total length: 784\n",
      "[M::worker_pipeline::0.026*2.28] mapped 4000 sequences\n",
      "[M::main] Version: 2.22-r1101\n",
      "[M::main] CMD: minimap2 -x map-ont assets/output/rbcL_Qiagen_tomato_5000/rbcL_Qiagen_tomato_5000.fastq_top20_consensus.fasta assets/output/rbcL_Qiagen_tomato_5000/rbcL_Qiagen_tomato_5000.fastq_remaining80.fastq\n",
      "[M::main] Real time: 0.027 sec; CPU: 0.060 sec; Peak RSS: 0.006 GB\n",
      "\n"
     ]
    },
    {
     "name": "stdout",
     "output_type": "stream",
     "text": [
      "Running read alignment with minimap2 on remaining 80% sequences...\n",
      "Generating final consensus sequence with racon...\n"
     ]
    },
    {
     "name": "stderr",
     "output_type": "stream",
     "text": [
      "ERROR:root:Error: [racon::Polisher::initialize] loaded target sequences 0.000078 s\n",
      "[racon::Polisher::initialize] loaded sequences 0.018144 s\n",
      "[racon::Polisher::initialize] loaded overlaps 0.005549 s\n",
      "[racon::Polisher::initialize] aligning overlaps [=>                  ] 0.025948 s\n",
      "[racon::Polisher::initialize] aligning overlaps [==>                 ] 0.035553 s\n",
      "[racon::Polisher::initialize] aligning overlaps [===>                ] 0.044434 s\n",
      "[racon::Polisher::initialize] aligning overlaps [====>               ] 0.051820 s\n",
      "[racon::Polisher::initialize] aligning overlaps [=====>              ] 0.058610 s\n",
      "[racon::Polisher::initialize] aligning overlaps [======>             ] 0.065052 s\n",
      "[racon::Polisher::initialize] aligning overlaps [=======>            ] 0.071506 s\n",
      "[racon::Polisher::initialize] aligning overlaps [========>           ] 0.077106 s\n",
      "[racon::Polisher::initialize] aligning overlaps [=========>          ] 0.082203 s\n",
      "[racon::Polisher::initialize] aligning overlaps [==========>         ] 0.086732 s\n",
      "[racon::Polisher::initialize] aligning overlaps [===========>        ] 0.091133 s\n",
      "[racon::Polisher::initialize] aligning overlaps [============>       ] 0.095457 s\n",
      "[racon::Polisher::initialize] aligning overlaps [=============>      ] 0.099491 s\n",
      "[racon::Polisher::initialize] aligning overlaps [==============>     ] 0.103272 s\n",
      "[racon::Polisher::initialize] aligning overlaps [===============>    ] 0.107027 s\n",
      "[racon::Polisher::initialize] aligning overlaps [================>   ] 0.110849 s\n",
      "[racon::Polisher::initialize] aligning overlaps [=================>  ] 0.114170 s\n",
      "[racon::Polisher::initialize] aligning overlaps [==================> ] 0.117247 s\n",
      "[racon::Polisher::initialize] aligning overlaps [===================>] 0.119933 s\n",
      "[racon::Polisher::initialize] aligning overlaps [====================] 0.122673 s\n",
      "[racon::Polisher::initialize] transformed data into windows 0.001633 s\n",
      "[racon::Polisher::polish] generated consensus 8.859059 s\n",
      "[racon::Polisher::] total = 9.009265 s\n",
      "\n"
     ]
    },
    {
     "name": "stdout",
     "output_type": "stream",
     "text": [
      "Minimap2 alignment took 0.07 seconds.\n",
      "Total Racon iterations took 14.68 seconds.\n",
      "Total time taken for the pipeline: 14.76 seconds.\n"
     ]
    }
   ],
   "source": [
    "run_consensus(input_fastq_filename, input_fastq_path, output_dir)"
   ]
  },
  {
   "cell_type": "markdown",
   "metadata": {},
   "source": [
    "## Run Idenfitication of Consensus Sequence"
   ]
  },
  {
   "cell_type": "code",
   "execution_count": 90,
   "metadata": {},
   "outputs": [],
   "source": [
    "run_identification()"
   ]
  }
 ],
 "metadata": {
  "kernelspec": {
   "display_name": "base",
   "language": "python",
   "name": "python3"
  },
  "language_info": {
   "codemirror_mode": {
    "name": "ipython",
    "version": 3
   },
   "file_extension": ".py",
   "mimetype": "text/x-python",
   "name": "python",
   "nbconvert_exporter": "python",
   "pygments_lexer": "ipython3",
   "version": "3.10.11"
  }
 },
 "nbformat": 4,
 "nbformat_minor": 2
}
