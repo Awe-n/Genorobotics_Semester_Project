{
 "cells": [
  {
   "cell_type": "markdown",
   "metadata": {},
   "source": [
    "# Jupyter Notebook GenoRobotics Full Pipeline"
   ]
  },
  {
   "cell_type": "markdown",
   "metadata": {},
   "source": [
    "## Imports"
   ]
  },
  {
   "cell_type": "code",
   "execution_count": 2,
   "metadata": {},
   "outputs": [],
   "source": [
    "import os\n",
    "\n",
    "from lib.consensus.consensus import run_consensus\n",
    "from lib.identification.identification import run_identification"
   ]
  },
  {
   "cell_type": "markdown",
   "metadata": {},
   "source": [
    "## Define Your File and Folder Paths\n",
    "\n",
    "- Modify the \"input_src\" variable to point to the directory containing the input files. \n",
    "  \n",
    "- Modify the \"output_src\" variable to point to the directory where you want the output files to be saved."
   ]
  },
  {
   "cell_type": "code",
   "execution_count": 3,
   "metadata": {},
   "outputs": [],
   "source": [
    "input_fastq_filename = \"rbcL_Qiagen_tomato_5000.fastq\"\n",
    "input_fastq_path = f\"assets/input/{input_fastq_filename}\"\n",
    "base_name = os.path.splitext(input_fastq_filename)[0]\n",
    "\n",
    "output_base_dir = \"assets/output\"\n",
    "output_dir = os.path.join(output_base_dir, base_name)\n",
    "os.makedirs(output_dir, exist_ok=True)"
   ]
  },
  {
   "cell_type": "markdown",
   "metadata": {},
   "source": [
    "## Run Preprocessing (Optional)"
   ]
  },
  {
   "cell_type": "code",
   "execution_count": 3,
   "metadata": {},
   "outputs": [],
   "source": [
    "# preprocessing()"
   ]
  },
  {
   "cell_type": "markdown",
   "metadata": {},
   "source": [
    "## Run Consensus Sequence Generation\n",
    "\n",
    "Select which consensus sequence generation method you want to use by setting the \"consensus_method\" variable to either:\n",
    "\n",
    "- \"majority\" (default)\n",
    "\n",
    "- \"consensus\"\n",
    "\n",
    "- \"consensus_with_ambiguities\""
   ]
  },
  {
   "cell_type": "code",
   "execution_count": 5,
   "metadata": {},
   "outputs": [
    {
     "name": "stdout",
     "output_type": "stream",
     "text": [
      "Running read alignment with minimap2 on top 20% sequences...\n"
     ]
    },
    {
     "name": "stderr",
     "output_type": "stream",
     "text": [
      "ERROR:root:Error: [M::mm_idx_gen::0.026*1.21] collected minimizers\n",
      "[M::mm_idx_gen::0.035*1.67] sorted minimizers\n",
      "[M::main::0.035*1.67] loaded/built the index for 1000 target sequence(s)\n",
      "[M::mm_mapopt_update::0.037*1.64] mid_occ = 608\n",
      "[M::mm_idx_stat] kmer size: 15; skip: 5; is_hpc: 0; #seq: 1000\n",
      "[M::mm_idx_stat::0.038*1.62] distinct minimizers: 61942 (78.57% are singletons); average occurrences: 3.831; average spacing: 2.966; total length: 703802\n",
      "[M::worker_pipeline::2.796*2.69] mapped 1000 sequences\n",
      "[M::main] Version: 2.22-r1101\n",
      "[M::main] CMD: minimap2 -x ava-ont assets/output/rbcL_Qiagen_tomato_5000/rbcL_Qiagen_tomato_5000.fastq_top20.fastq assets/output/rbcL_Qiagen_tomato_5000/rbcL_Qiagen_tomato_5000.fastq_top20.fastq\n",
      "[M::main] Real time: 2.801 sec; CPU: 7.524 sec; Peak RSS: 0.069 GB\n",
      "\n"
     ]
    },
    {
     "name": "stdout",
     "output_type": "stream",
     "text": [
      "Generating consensus sequence with racon on top 20% sequences...\n"
     ]
    },
    {
     "name": "stderr",
     "output_type": "stream",
     "text": [
      "ERROR:root:Error: [racon::Polisher::initialize] loaded target sequences 0.007265 s\n",
      "[racon::Polisher::initialize] loaded sequences 0.007781 s\n",
      "[racon::Polisher::initialize] loaded overlaps 0.622514 s\n",
      "[racon::Polisher::initialize] aligning overlaps [=>                  ] 0.006859 s\n",
      "[racon::Polisher::initialize] aligning overlaps [==>                 ] 0.011121 s\n",
      "[racon::Polisher::initialize] aligning overlaps [===>                ] 0.015240 s\n",
      "[racon::Polisher::initialize] aligning overlaps [====>               ] 0.019874 s\n",
      "[racon::Polisher::initialize] aligning overlaps [=====>              ] 0.024352 s\n",
      "[racon::Polisher::initialize] aligning overlaps [======>             ] 0.028730 s\n",
      "[racon::Polisher::initialize] aligning overlaps [=======>            ] 0.033192 s\n",
      "[racon::Polisher::initialize] aligning overlaps [========>           ] 0.037545 s\n",
      "[racon::Polisher::initialize] aligning overlaps [=========>          ] 0.041929 s\n",
      "[racon::Polisher::initialize] aligning overlaps [==========>         ] 0.046321 s\n",
      "[racon::Polisher::initialize] aligning overlaps [===========>        ] 0.050690 s\n",
      "[racon::Polisher::initialize] aligning overlaps [============>       ] 0.055019 s\n",
      "[racon::Polisher::initialize] aligning overlaps [=============>      ] 0.059476 s\n",
      "[racon::Polisher::initialize] aligning overlaps [==============>     ] 0.063665 s\n",
      "[racon::Polisher::initialize] aligning overlaps [===============>    ] 0.068107 s\n",
      "[racon::Polisher::initialize] aligning overlaps [================>   ] 0.072184 s\n",
      "[racon::Polisher::initialize] aligning overlaps [=================>  ] 0.076178 s\n",
      "[racon::Polisher::initialize] aligning overlaps [==================> ] 0.080383 s\n",
      "[racon::Polisher::initialize] aligning overlaps [===================>] 0.084411 s\n",
      "[racon::Polisher::initialize] aligning overlaps [====================] 0.089097 s\n",
      "[racon::Polisher::initialize] transformed data into windows 0.008841 s\n",
      "[racon::Polisher::polish] generating consensus [=>                  ] 1.242651 s\n",
      "[racon::Polisher::polish] generating consensus [==>                 ] 1.796944 s\n",
      "[racon::Polisher::polish] generating consensus [===>                ] 1.943133 s\n",
      "[racon::Polisher::polish] generating consensus [====>               ] 1.959451 s\n",
      "[racon::Polisher::polish] generating consensus [=====>              ] 1.971455 s\n",
      "[racon::Polisher::polish] generating consensus [======>             ] 1.971517 s\n",
      "[racon::Polisher::polish] generating consensus [=======>            ] 1.981062 s\n",
      "[racon::Polisher::polish] generating consensus [========>           ] 1.985348 s\n",
      "[racon::Polisher::polish] generating consensus [=========>          ] 1.985518 s\n",
      "[racon::Polisher::polish] generating consensus [==========>         ] 1.985586 s\n",
      "[racon::Polisher::polish] generating consensus [===========>        ] 1.993991 s\n",
      "[racon::Polisher::polish] generating consensus [============>       ] 1.994671 s\n",
      "[racon::Polisher::polish] generating consensus [=============>      ] 1.998217 s\n",
      "[racon::Polisher::polish] generating consensus [==============>     ] 1.998350 s\n",
      "[racon::Polisher::polish] generating consensus [===============>    ] 1.998450 s\n",
      "[racon::Polisher::polish] generating consensus [================>   ] 1.998551 s\n",
      "[racon::Polisher::polish] generating consensus [=================>  ] 2.001737 s\n",
      "[racon::Polisher::polish] generating consensus [==================> ] 2.006021 s\n",
      "[racon::Polisher::polish] generating consensus [===================>] 2.006138 s\n",
      "[racon::Polisher::polish] generating consensus [====================] 2.010225 s\n",
      "[racon::Polisher::] total = 2.746772 s\n",
      "\n"
     ]
    },
    {
     "name": "stdout",
     "output_type": "stream",
     "text": [
      "Multiple sequences found in assets/output/rbcL_Qiagen_tomato_5000/rbcL_Qiagen_tomato_5000.fastq_top20_consensus.fasta. Selecting the best alignment...\n"
     ]
    },
    {
     "name": "stderr",
     "output_type": "stream",
     "text": [
      "ERROR:root:Error: [M::mm_idx_gen::0.001*8.96] collected minimizers\n",
      "[M::mm_idx_gen::0.001*5.79] sorted minimizers\n",
      "[M::main::0.001*5.75] loaded/built the index for 1 target sequence(s)\n",
      "[M::mm_mapopt_update::0.001*5.54] mid_occ = 10\n",
      "[M::mm_idx_stat] kmer size: 15; skip: 10; is_hpc: 0; #seq: 1\n",
      "[M::mm_idx_stat::0.001*5.39] distinct minimizers: 130 (100.00% are singletons); average occurrences: 1.000; average spacing: 6.031; total length: 784\n",
      "[M::worker_pipeline::0.025*2.30] mapped 4000 sequences\n",
      "[M::main] Version: 2.22-r1101\n",
      "[M::main] CMD: minimap2 -x map-ont assets/output/rbcL_Qiagen_tomato_5000/rbcL_Qiagen_tomato_5000.fastq_top20_consensus.fasta assets/output/rbcL_Qiagen_tomato_5000/rbcL_Qiagen_tomato_5000.fastq_remaining80.fastq\n",
      "[M::main] Real time: 0.025 sec; CPU: 0.057 sec; Peak RSS: 0.006 GB\n",
      "\n"
     ]
    },
    {
     "name": "stdout",
     "output_type": "stream",
     "text": [
      "Running read alignment with minimap2 on remaining 80% sequences...\n",
      "Generating final consensus sequence with racon...\n"
     ]
    },
    {
     "name": "stderr",
     "output_type": "stream",
     "text": [
      "ERROR:root:Error: [racon::Polisher::initialize] loaded target sequences 0.000167 s\n",
      "[racon::Polisher::initialize] loaded sequences 0.017978 s\n",
      "[racon::Polisher::initialize] loaded overlaps 0.005554 s\n",
      "[racon::Polisher::initialize] aligning overlaps [=>                  ] 0.025392 s\n",
      "[racon::Polisher::initialize] aligning overlaps [==>                 ] 0.033861 s\n",
      "[racon::Polisher::initialize] aligning overlaps [===>                ] 0.042363 s\n",
      "[racon::Polisher::initialize] aligning overlaps [====>               ] 0.049628 s\n",
      "[racon::Polisher::initialize] aligning overlaps [=====>              ] 0.056248 s\n",
      "[racon::Polisher::initialize] aligning overlaps [======>             ] 0.062496 s\n",
      "[racon::Polisher::initialize] aligning overlaps [=======>            ] 0.068400 s\n",
      "[racon::Polisher::initialize] aligning overlaps [========>           ] 0.073722 s\n",
      "[racon::Polisher::initialize] aligning overlaps [=========>          ] 0.078651 s\n",
      "[racon::Polisher::initialize] aligning overlaps [==========>         ] 0.083404 s\n",
      "[racon::Polisher::initialize] aligning overlaps [===========>        ] 0.087973 s\n",
      "[racon::Polisher::initialize] aligning overlaps [============>       ] 0.092366 s\n",
      "[racon::Polisher::initialize] aligning overlaps [=============>      ] 0.096258 s\n",
      "[racon::Polisher::initialize] aligning overlaps [==============>     ] 0.100096 s\n",
      "[racon::Polisher::initialize] aligning overlaps [===============>    ] 0.103789 s\n",
      "[racon::Polisher::initialize] aligning overlaps [================>   ] 0.107312 s\n",
      "[racon::Polisher::initialize] aligning overlaps [=================>  ] 0.110343 s\n",
      "[racon::Polisher::initialize] aligning overlaps [==================> ] 0.113241 s\n",
      "[racon::Polisher::initialize] aligning overlaps [===================>] 0.115774 s\n",
      "[racon::Polisher::initialize] aligning overlaps [====================] 0.118363 s\n",
      "[racon::Polisher::initialize] transformed data into windows 0.001893 s\n",
      "[racon::Polisher::polish] generated consensus 8.840039 s\n",
      "[racon::Polisher::] total = 8.985954 s\n",
      "\n"
     ]
    },
    {
     "name": "stdout",
     "output_type": "stream",
     "text": [
      "Minimap2 alignment took 0.07 seconds.\n",
      "Total Racon iterations took 14.95 seconds.\n",
      "Total time taken for the pipeline: 15.02 seconds.\n"
     ]
    }
   ],
   "source": [
    "# choose a consensus method between the following:\n",
    "# - \"80_20_best_sequence\"\n",
    "# - \"80_20_longest_sequence\"\n",
    "\n",
    "run_consensus(input_name= input_fastq_filename, \n",
    "              input_fastq_path=input_fastq_path, \n",
    "              output_dir=output_dir, \n",
    "              consensus_method=\"80_20_best_sequence\")"
   ]
  },
  {
   "cell_type": "markdown",
   "metadata": {},
   "source": [
    "## Run Idenfitication of Consensus Sequence"
   ]
  },
  {
   "cell_type": "code",
   "execution_count": 90,
   "metadata": {},
   "outputs": [],
   "source": [
    "run_identification()"
   ]
  }
 ],
 "metadata": {
  "kernelspec": {
   "display_name": "base",
   "language": "python",
   "name": "python3"
  },
  "language_info": {
   "codemirror_mode": {
    "name": "ipython",
    "version": 3
   },
   "file_extension": ".py",
   "mimetype": "text/x-python",
   "name": "python",
   "nbconvert_exporter": "python",
   "pygments_lexer": "ipython3",
   "version": "3.10.11"
  }
 },
 "nbformat": 4,
 "nbformat_minor": 2
}
