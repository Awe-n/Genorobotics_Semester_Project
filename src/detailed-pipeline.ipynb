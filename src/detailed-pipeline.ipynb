{
 "cells": [
  {
   "cell_type": "markdown",
   "metadata": {},
   "source": [
    "# Jupyter Notebook GenoRobotics Full Pipeline"
   ]
  },
  {
   "cell_type": "markdown",
   "metadata": {},
   "source": [
    "## Imports"
   ]
  },
  {
   "cell_type": "code",
   "execution_count": 1,
   "metadata": {},
   "outputs": [],
   "source": [
    "%load_ext autoreload\n",
    "%autoreload 2"
   ]
  },
  {
   "cell_type": "code",
   "execution_count": 2,
   "metadata": {},
   "outputs": [],
   "source": [
    "import os\n",
    "\n",
    "from lib.consensus.consensus import run_consensus\n",
    "from lib.identification.identification import run_identification\n",
    "from lib.general_helpers.process_fastq import concatenate_fastq"
   ]
  },
  {
   "cell_type": "markdown",
   "metadata": {},
   "source": [
    "## Define Your File and Folder Paths\n",
    "\n",
    "- Modify the \"input_fastq_filename\" variable to point to the fastq you want to use as input. \n",
    "  \n",
    "- Modify wsl if you're on Windows and want to use WSL."
   ]
  },
  {
   "cell_type": "code",
   "execution_count": 3,
   "metadata": {},
   "outputs": [],
   "source": [
    "input_fastq_filename = \"rbcL_Qiagen_tomato_5000.fastq\"\n",
    "wsl = False"
   ]
  },
  {
   "cell_type": "code",
   "execution_count": 4,
   "metadata": {},
   "outputs": [],
   "source": [
    "input_fastq_path = os.path.join(\"assets\",\"input\", input_fastq_filename)\n",
    "base_name = os.path.splitext(input_fastq_filename)[0]"
   ]
  },
  {
   "cell_type": "markdown",
   "metadata": {},
   "source": [
    "## Run Preprocessing (Optional)\n",
    "\n",
    "- If you want to preprocess your data, run the following cell. Otherwise, skip to the next cell.\n",
    "- For now, preprocessing consists of concatenating all the fastq files in a folder into one file. This is useful if you have multiple fastq files for one sample. You'll have to change the first parameter in the \"concatenate_fastq_files\" function to point to the folder containing your fastq files."
   ]
  },
  {
   "cell_type": "code",
   "execution_count": 5,
   "metadata": {},
   "outputs": [],
   "source": [
    "# preprocessing()\n",
    "#concatenate_fastq(os.path.join(\"assets\", \"input\", \"barcode74\"), input_fastq_path)"
   ]
  },
  {
   "cell_type": "markdown",
   "metadata": {},
   "source": [
    "## Run Consensus Sequence Generation\n",
    "\n",
    "Select which consensus sequence generation method you want to use by setting the \"consensus_method\" variable to either:\n",
    "\n",
    "- \"majority\" (default)\n",
    "\n",
    "- \"consensus\"\n",
    "\n",
    "- \"consensus_with_ambiguities\""
   ]
  },
  {
   "cell_type": "code",
   "execution_count": 6,
   "metadata": {},
   "outputs": [
    {
     "name": "stdout",
     "output_type": "stream",
     "text": [
      "Logging set up at assets/output/post/rbcL_Qiagen_tomato_5000/consensus/rbcL_Qiagen_tomato_5000_consensus_pipeline_log.log\n"
     ]
    },
    {
     "data": {
      "text/plain": [
       "(14.665834903717041, 2.9280059337615967, 11.737828969955444)"
      ]
     },
     "execution_count": 6,
     "metadata": {},
     "output_type": "execute_result"
    }
   ],
   "source": [
    "# choose a consensus method between the following:\n",
    "# - \"80_20_best_sequence\"\n",
    "# - \"80_20_longest_sequence\"\n",
    "# - \"straightforward_best_sequence\"\n",
    "\n",
    "# consensus_method = \"straightforward_best_sequence\"\n",
    "consensus_method = \"80_20_best_sequence\"\n",
    "\n",
    "run_consensus(input_name= base_name, \n",
    "              input_fastq_path= input_fastq_path, \n",
    "              consensus_method= consensus_method,\n",
    "              wsl= wsl)"
   ]
  },
  {
   "cell_type": "markdown",
   "metadata": {},
   "source": [
    "## Run Identification of Consensus Sequence\n",
    "- Run the following cell to identify the consensus sequence.\n",
    "- Change db to the database you want to use. Options are \"matK\", \"rbcL\", \"psbA-trnH\" and \"ITS\". If you want to use all of them, set db to None."
   ]
  },
  {
   "cell_type": "code",
   "execution_count": 7,
   "metadata": {},
   "outputs": [
    {
     "name": "stdout",
     "output_type": "stream",
     "text": [
      "Logging set up at assets/output/post/rbcL_Qiagen_tomato_5000/identification/rbcL_Qiagen_tomato_5000_identification_pipeline_log.log\n"
     ]
    },
    {
     "data": {
      "text/plain": [
       "({'matK': {'species': 'Solanum lycopersicum',\n",
       "   'alignment': 98.96193771626297,\n",
       "   'evalue': 0.0}},\n",
       " 1.3930041790008545)"
      ]
     },
     "execution_count": 7,
     "metadata": {},
     "output_type": "execute_result"
    }
   ],
   "source": [
    "# choose an identification method between the following:\n",
    "# - \"blastn\"\n",
    "\n",
    "identification_method = \"blastn\"\n",
    "\n",
    "# Choose your db along the gene you're trying to identify : matK, rbcL, psbA-trnH or ITS\n",
    "db = \"matK\"\n",
    "\n",
    "run_identification(base_name, db=db, identification_method=identification_method)"
   ]
  },
  {
   "cell_type": "code",
   "execution_count": null,
   "metadata": {},
   "outputs": [],
   "source": []
  }
 ],
 "metadata": {
  "kernelspec": {
   "display_name": "base",
   "language": "python",
   "name": "python3"
  },
  "language_info": {
   "codemirror_mode": {
    "name": "ipython",
    "version": 3
   },
   "file_extension": ".py",
   "mimetype": "text/x-python",
   "name": "python",
   "nbconvert_exporter": "python",
   "pygments_lexer": "ipython3",
   "version": "3.10.11"
  }
 },
 "nbformat": 4,
 "nbformat_minor": 2
}
