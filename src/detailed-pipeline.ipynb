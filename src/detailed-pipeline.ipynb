{
 "cells": [
  {
   "cell_type": "markdown",
   "metadata": {},
   "source": [
    "# Jupyter Notebook GenoRobotics Full Pipeline"
   ]
  },
  {
   "cell_type": "markdown",
   "metadata": {},
   "source": [
    "## Imports"
   ]
  },
  {
   "cell_type": "code",
   "execution_count": 1,
   "metadata": {},
   "outputs": [],
   "source": [
    "import os\n",
    "\n",
    "from lib.consensus.consensus import run_consensus\n",
    "from lib.identification.identification import run_identification"
   ]
  },
  {
   "cell_type": "markdown",
   "metadata": {},
   "source": [
    "## Define Your File and Folder Paths\n",
    "\n",
    "- Modify the \"input_src\" variable to point to the directory containing the input files. \n",
    "  \n",
    "- Modify the \"output_src\" variable to point to the directory where you want the output files to be saved."
   ]
  },
  {
   "cell_type": "code",
   "execution_count": 2,
   "metadata": {},
   "outputs": [],
   "source": [
    "input_fastq_filename = \"rbcL_Qiagen_tomato_5000.fastq\"\n",
    "input_fastq_path = f\"assets/input/{input_fastq_filename}\"\n",
    "base_name = os.path.splitext(input_fastq_filename)[0]\n",
    "\n",
    "output_base_dir = \"assets/output\"\n",
    "output_dir = os.path.join(output_base_dir, base_name)\n",
    "os.makedirs(output_dir, exist_ok=True)"
   ]
  },
  {
   "cell_type": "markdown",
   "metadata": {},
   "source": [
    "## Run Preprocessing (Optional)"
   ]
  },
  {
   "cell_type": "code",
   "execution_count": 3,
   "metadata": {},
   "outputs": [],
   "source": [
    "# preprocessing()"
   ]
  },
  {
   "cell_type": "markdown",
   "metadata": {},
   "source": [
    "## Run Consensus Sequence Generation\n",
    "\n",
    "Select which consensus sequence generation method you want to use by setting the \"consensus_method\" variable to either:\n",
    "\n",
    "- \"majority\" (default)\n",
    "\n",
    "- \"consensus\"\n",
    "\n",
    "- \"consensus_with_ambiguities\""
   ]
  },
  {
   "cell_type": "code",
   "execution_count": 5,
   "metadata": {},
   "outputs": [
    {
     "name": "stdout",
     "output_type": "stream",
     "text": [
      "Running consensus pipeline...\n",
      "Running consensus pipeline with 80_20_best_sequence method...\n",
      "Running read alignment with minimap2 on top 20% sequences...\n"
     ]
    },
    {
     "name": "stderr",
     "output_type": "stream",
     "text": [
      "ERROR:root:Error: [M::mm_idx_gen::0.023*1.20] collected minimizers\n",
      "[M::mm_idx_gen::0.035*1.79] sorted minimizers\n",
      "[M::main::0.035*1.79] loaded/built the index for 1000 target sequence(s)\n",
      "[M::mm_mapopt_update::0.037*1.76] mid_occ = 608\n",
      "[M::mm_idx_stat] kmer size: 15; skip: 5; is_hpc: 0; #seq: 1000\n",
      "[M::mm_idx_stat::0.037*1.74] distinct minimizers: 61942 (78.57% are singletons); average occurrences: 3.831; average spacing: 2.966; total length: 703802\n",
      "[M::worker_pipeline::2.806*2.69] mapped 1000 sequences\n",
      "[M::main] Version: 2.22-r1101\n",
      "[M::main] CMD: minimap2 -x ava-ont assets/output/rbcL_Qiagen_tomato_5000/rbcL_Qiagen_tomato_5000_top20.fastq assets/output/rbcL_Qiagen_tomato_5000/rbcL_Qiagen_tomato_5000_top20.fastq\n",
      "[M::main] Real time: 2.810 sec; CPU: 7.556 sec; Peak RSS: 0.074 GB\n",
      "\n"
     ]
    },
    {
     "name": "stdout",
     "output_type": "stream",
     "text": [
      "Generating consensus sequence with racon on top 20% sequences...\n"
     ]
    },
    {
     "name": "stderr",
     "output_type": "stream",
     "text": [
      "ERROR:root:Error: [racon::Polisher::initialize] loaded target sequences 0.007301 s\n",
      "[racon::Polisher::initialize] loaded sequences 0.007621 s\n",
      "[racon::Polisher::initialize] loaded overlaps 0.593083 s\n",
      "[racon::Polisher::initialize] aligning overlaps [=>                  ] 0.006839 s\n",
      "[racon::Polisher::initialize] aligning overlaps [==>                 ] 0.011122 s\n",
      "[racon::Polisher::initialize] aligning overlaps [===>                ] 0.015304 s\n",
      "[racon::Polisher::initialize] aligning overlaps [====>               ] 0.019999 s\n",
      "[racon::Polisher::initialize] aligning overlaps [=====>              ] 0.024304 s\n",
      "[racon::Polisher::initialize] aligning overlaps [======>             ] 0.028831 s\n",
      "[racon::Polisher::initialize] aligning overlaps [=======>            ] 0.033268 s\n",
      "[racon::Polisher::initialize] aligning overlaps [========>           ] 0.037621 s\n",
      "[racon::Polisher::initialize] aligning overlaps [=========>          ] 0.042043 s\n",
      "[racon::Polisher::initialize] aligning overlaps [==========>         ] 0.046530 s\n",
      "[racon::Polisher::initialize] aligning overlaps [===========>        ] 0.050936 s\n",
      "[racon::Polisher::initialize] aligning overlaps [============>       ] 0.055215 s\n",
      "[racon::Polisher::initialize] aligning overlaps [=============>      ] 0.059447 s\n",
      "[racon::Polisher::initialize] aligning overlaps [==============>     ] 0.063688 s\n",
      "[racon::Polisher::initialize] aligning overlaps [===============>    ] 0.067857 s\n",
      "[racon::Polisher::initialize] aligning overlaps [================>   ] 0.071954 s\n",
      "[racon::Polisher::initialize] aligning overlaps [=================>  ] 0.075858 s\n",
      "[racon::Polisher::initialize] aligning overlaps [==================> ] 0.079799 s\n",
      "[racon::Polisher::initialize] aligning overlaps [===================>] 0.083738 s\n",
      "[racon::Polisher::initialize] aligning overlaps [====================] 0.088419 s\n",
      "[racon::Polisher::initialize] transformed data into windows 0.009494 s\n",
      "[racon::Polisher::polish] generating consensus [=>                  ] 1.236418 s\n",
      "[racon::Polisher::polish] generating consensus [==>                 ] 1.787041 s\n",
      "[racon::Polisher::polish] generating consensus [===>                ] 1.912120 s\n",
      "[racon::Polisher::polish] generating consensus [====>               ] 1.926793 s\n",
      "[racon::Polisher::polish] generating consensus [=====>              ] 1.938672 s\n",
      "[racon::Polisher::polish] generating consensus [======>             ] 1.938770 s\n",
      "[racon::Polisher::polish] generating consensus [=======>            ] 1.948646 s\n",
      "[racon::Polisher::polish] generating consensus [========>           ] 1.952825 s\n",
      "[racon::Polisher::polish] generating consensus [=========>          ] 1.952941 s\n",
      "[racon::Polisher::polish] generating consensus [==========>         ] 1.953152 s\n",
      "[racon::Polisher::polish] generating consensus [===========>        ] 1.961313 s\n",
      "[racon::Polisher::polish] generating consensus [============>       ] 1.961413 s\n",
      "[racon::Polisher::polish] generating consensus [=============>      ] 1.965386 s\n",
      "[racon::Polisher::polish] generating consensus [==============>     ] 1.965480 s\n",
      "[racon::Polisher::polish] generating consensus [===============>    ] 1.965579 s\n",
      "[racon::Polisher::polish] generating consensus [================>   ] 1.965673 s\n",
      "[racon::Polisher::polish] generating consensus [=================>  ] 1.968702 s\n",
      "[racon::Polisher::polish] generating consensus [==================> ] 1.972835 s\n",
      "[racon::Polisher::polish] generating consensus [===================>] 1.972941 s\n",
      "[racon::Polisher::polish] generating consensus [====================] 1.977238 s\n",
      "[racon::Polisher::] total = 2.684006 s\n",
      "\n"
     ]
    },
    {
     "name": "stdout",
     "output_type": "stream",
     "text": [
      "Multiple sequences found in assets/output/rbcL_Qiagen_tomato_5000/rbcL_Qiagen_tomato_5000_top20_consensus.fasta. Selecting the best alignment...\n"
     ]
    },
    {
     "name": "stderr",
     "output_type": "stream",
     "text": [
      "ERROR:root:Error: [M::mm_idx_gen::0.001*8.12] collected minimizers\n",
      "[M::mm_idx_gen::0.001*5.26] sorted minimizers\n",
      "[M::main::0.001*5.24] loaded/built the index for 1 target sequence(s)\n",
      "[M::mm_mapopt_update::0.001*5.08] mid_occ = 10\n",
      "[M::mm_idx_stat] kmer size: 15; skip: 10; is_hpc: 0; #seq: 1\n",
      "[M::mm_idx_stat::0.001*4.97] distinct minimizers: 130 (100.00% are singletons); average occurrences: 1.000; average spacing: 6.031; total length: 784\n",
      "[M::worker_pipeline::0.025*2.27] mapped 4000 sequences\n",
      "[M::main] Version: 2.22-r1101\n",
      "[M::main] CMD: minimap2 -x map-ont assets/output/rbcL_Qiagen_tomato_5000/rbcL_Qiagen_tomato_5000_top20_consensus.fasta assets/output/rbcL_Qiagen_tomato_5000/rbcL_Qiagen_tomato_5000_remaining80.fastq\n",
      "[M::main] Real time: 0.026 sec; CPU: 0.058 sec; Peak RSS: 0.006 GB\n",
      "\n"
     ]
    },
    {
     "name": "stdout",
     "output_type": "stream",
     "text": [
      "Running read alignment with minimap2 on remaining 80% sequences...\n",
      "Generating final consensus sequence with racon...\n"
     ]
    },
    {
     "name": "stderr",
     "output_type": "stream",
     "text": [
      "ERROR:root:Error: [racon::Polisher::initialize] loaded target sequences 0.000067 s\n",
      "[racon::Polisher::initialize] loaded sequences 0.017888 s\n",
      "[racon::Polisher::initialize] loaded overlaps 0.005623 s\n",
      "[racon::Polisher::initialize] aligning overlaps [=>                  ] 0.024927 s\n",
      "[racon::Polisher::initialize] aligning overlaps [==>                 ] 0.033647 s\n",
      "[racon::Polisher::initialize] aligning overlaps [===>                ] 0.041678 s\n",
      "[racon::Polisher::initialize] aligning overlaps [====>               ] 0.048782 s\n",
      "[racon::Polisher::initialize] aligning overlaps [=====>              ] 0.055204 s\n",
      "[racon::Polisher::initialize] aligning overlaps [======>             ] 0.061163 s\n",
      "[racon::Polisher::initialize] aligning overlaps [=======>            ] 0.067072 s\n",
      "[racon::Polisher::initialize] aligning overlaps [========>           ] 0.072354 s\n",
      "[racon::Polisher::initialize] aligning overlaps [=========>          ] 0.077166 s\n",
      "[racon::Polisher::initialize] aligning overlaps [==========>         ] 0.081666 s\n",
      "[racon::Polisher::initialize] aligning overlaps [===========>        ] 0.085856 s\n",
      "[racon::Polisher::initialize] aligning overlaps [============>       ] 0.089977 s\n",
      "[racon::Polisher::initialize] aligning overlaps [=============>      ] 0.093593 s\n",
      "[racon::Polisher::initialize] aligning overlaps [==============>     ] 0.097110 s\n",
      "[racon::Polisher::initialize] aligning overlaps [===============>    ] 0.100485 s\n",
      "[racon::Polisher::initialize] aligning overlaps [================>   ] 0.103703 s\n",
      "[racon::Polisher::initialize] aligning overlaps [=================>  ] 0.106831 s\n",
      "[racon::Polisher::initialize] aligning overlaps [==================> ] 0.109614 s\n",
      "[racon::Polisher::initialize] aligning overlaps [===================>] 0.112434 s\n",
      "[racon::Polisher::initialize] aligning overlaps [====================] 0.115115 s\n",
      "[racon::Polisher::initialize] transformed data into windows 0.001582 s\n",
      "[racon::Polisher::polish] generated consensus 8.850429 s\n",
      "[racon::Polisher::] total = 8.992642 s\n",
      "\n"
     ]
    },
    {
     "name": "stdout",
     "output_type": "stream",
     "text": [
      "Deleting intermediate files...\n",
      "Minimap2 alignment took 0.07 seconds.\n",
      "Total Racon iterations took 14.62 seconds.\n",
      "Total time taken for the pipeline: 14.68 seconds.\n"
     ]
    }
   ],
   "source": [
    "# choose a consensus method between the following:\n",
    "# - \"80_20_best_sequence\"\n",
    "# - \"80_20_longest_sequence\"\n",
    "\n",
    "# rename the input_fastq_filename with the extension removed\n",
    "input_fastq_filename = input_fastq_filename.replace(\".fastq\", \"\")\n",
    "\n",
    "run_consensus(input_name= input_fastq_filename, \n",
    "              input_fastq_path=input_fastq_path, \n",
    "              output_dir=output_dir, \n",
    "              consensus_method=\"80_20_best_sequence\")"
   ]
  },
  {
   "cell_type": "markdown",
   "metadata": {},
   "source": [
    "## Run Idenfitication of Consensus Sequence"
   ]
  },
  {
   "cell_type": "code",
   "execution_count": 90,
   "metadata": {},
   "outputs": [],
   "source": [
    "run_identification()"
   ]
  }
 ],
 "metadata": {
  "kernelspec": {
   "display_name": "base",
   "language": "python",
   "name": "python3"
  },
  "language_info": {
   "codemirror_mode": {
    "name": "ipython",
    "version": 3
   },
   "file_extension": ".py",
   "mimetype": "text/x-python",
   "name": "python",
   "nbconvert_exporter": "python",
   "pygments_lexer": "ipython3",
   "version": "3.10.11"
  }
 },
 "nbformat": 4,
 "nbformat_minor": 2
}
