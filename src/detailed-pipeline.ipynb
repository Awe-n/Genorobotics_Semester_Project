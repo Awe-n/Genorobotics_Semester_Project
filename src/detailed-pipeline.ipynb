{
 "cells": [
  {
   "cell_type": "markdown",
   "metadata": {},
   "source": [
    "# Jupyter Notebook GenoRobotics Full Pipeline"
   ]
  },
  {
   "cell_type": "markdown",
   "metadata": {},
   "source": [
    "## Imports"
   ]
  },
  {
   "cell_type": "code",
   "execution_count": 18,
   "metadata": {},
   "outputs": [
    {
     "name": "stdout",
     "output_type": "stream",
     "text": [
      "The autoreload extension is already loaded. To reload it, use:\n",
      "  %reload_ext autoreload\n"
     ]
    }
   ],
   "source": [
    "%load_ext autoreload\n",
    "%autoreload 2"
   ]
  },
  {
   "cell_type": "code",
   "execution_count": 19,
   "metadata": {},
   "outputs": [],
   "source": [
    "import os\n",
    "\n",
    "from lib.consensus.consensus import run_consensus\n",
    "from lib.identification.identification import run_identification"
   ]
  },
  {
   "cell_type": "markdown",
   "metadata": {},
   "source": [
    "## Define Your File and Folder Paths\n",
    "\n",
    "- Modify the \"input_src\" variable to point to the directory containing the input files. \n",
    "  \n",
    "- Modify the \"output_src\" variable to point to the directory where you want the output files to be saved."
   ]
  },
  {
   "cell_type": "code",
   "execution_count": 20,
   "metadata": {},
   "outputs": [],
   "source": [
    "input_fastq_filename = \"rbcL_Qiagen_tomato_5000.fastq\"\n",
    "input_fastq_path = os.path.join(\"assets\",\"input\", input_fastq_filename)\n",
    "base_name = os.path.splitext(input_fastq_filename)[0]\n",
    "\n",
    "output_base_dir = os.path.join('assets','output')\n",
    "output_dir = os.path.join(output_base_dir, base_name)\n",
    "os.makedirs(output_dir, exist_ok=True)"
   ]
  },
  {
   "cell_type": "markdown",
   "metadata": {},
   "source": [
    "## Run Preprocessing (Optional)"
   ]
  },
  {
   "cell_type": "code",
   "execution_count": 21,
   "metadata": {},
   "outputs": [],
   "source": [
    "# preprocessing()"
   ]
  },
  {
   "cell_type": "markdown",
   "metadata": {},
   "source": [
    "## Run Consensus Sequence Generation\n",
    "\n",
    "Select which consensus sequence generation method you want to use by setting the \"consensus_method\" variable to either:\n",
    "\n",
    "- \"majority\" (default)\n",
    "\n",
    "- \"consensus\"\n",
    "\n",
    "- \"consensus_with_ambiguities\""
   ]
  },
  {
   "cell_type": "code",
   "execution_count": 22,
   "metadata": {},
   "outputs": [
    {
     "name": "stdout",
     "output_type": "stream",
     "text": [
      "Running consensus pipeline... \n",
      "\n",
      "Running consensus pipeline with 80_20_best_sequence method...\n",
      "Minimap2 alignment took 0.58 seconds.\n",
      "Total Racon iterations took 24.42 seconds.\n",
      "Total time taken for the consensus pipeline: 24.99 seconds.\n"
     ]
    }
   ],
   "source": [
    "# choose a consensus method between the following:\n",
    "# - \"80_20_best_sequence\"\n",
    "# - \"80_20_longest_sequence\"\n",
    "\n",
    "#If you're on Windows and have to use WSL (Windows Subsystem for Linux), set wsl to True\n",
    "wsl = True\n",
    "\n",
    "run_consensus(input_name= base_name, \n",
    "              input_fastq_path=input_fastq_path, \n",
    "              consensus_method=\"80_20_best_sequence\",\n",
    "              wsl = wsl)"
   ]
  },
  {
   "cell_type": "markdown",
   "metadata": {},
   "source": [
    "## Run Idenfitication of Consensus Sequence"
   ]
  },
  {
   "cell_type": "code",
   "execution_count": 26,
   "metadata": {},
   "outputs": [
    {
     "name": "stdout",
     "output_type": "stream",
     "text": [
      "Running consensus pipeline... \n",
      "\n",
      "Querying  matK[All Fields] AND (is_nuccore[filter] AND \"750\"[SLEN] : \"1500\"[SLEN]))\n",
      "Downloading from 0 to 10000 : 0.0%\n",
      "Downloading from 10000 to 20000 : 8.329099374484636%\n",
      "Downloading from 20000 to 30000 : 16.658198748969273%\n",
      "Downloading from 30000 to 40000 : 24.98729812345391%\n",
      "Downloading from 40000 to 50000 : 33.316397497938546%\n",
      "Downloading from 50000 to 60000 : 41.64549687242318%\n",
      "Downloading from 60000 to 70000 : 49.97459624690782%\n",
      "Downloading from 70000 to 80000 : 58.30369562139246%\n",
      "Downloading from 80000 to 90000 : 66.63279499587709%\n",
      "Downloading from 90000 to 100000 : 74.96189437036173%\n",
      "Downloading from 100000 to 110000 : 83.29099374484636%\n",
      "Downloading from 110000 to 120000 : 91.620093119331%\n",
      "Downloading from 120000 to 130000 : 99.94919249381564%\n",
      "You can find identification output at assets\\output\\blastn\\rbcL_Qiagen_tomato_5000\n"
     ]
    }
   ],
   "source": [
    "# Choose your db along the gene you're trying to identify : matK, rbcL, psbA-trnH or ITS\n",
    "db = \"matK\"\n",
    "\n",
    "run_identification(base_name, db=db)"
   ]
  },
  {
   "cell_type": "code",
   "execution_count": 27,
   "metadata": {},
   "outputs": [
    {
     "name": "stdout",
     "output_type": "stream",
     "text": [
      "120048\n"
     ]
    }
   ],
   "source": [
    "from Bio import SeqIO\n",
    "\n",
    "count = sum(1 for _ in SeqIO.parse(\"matK_sequences.fasta\", \"fasta\"))\n",
    "print(count)\n"
   ]
  }
 ],
 "metadata": {
  "kernelspec": {
   "display_name": "base",
   "language": "python",
   "name": "python3"
  },
  "language_info": {
   "codemirror_mode": {
    "name": "ipython",
    "version": 3
   },
   "file_extension": ".py",
   "mimetype": "text/x-python",
   "name": "python",
   "nbconvert_exporter": "python",
   "pygments_lexer": "ipython3",
   "version": "3.11.5"
  }
 },
 "nbformat": 4,
 "nbformat_minor": 2
}
