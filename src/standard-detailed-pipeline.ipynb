{
 "cells": [
  {
   "cell_type": "markdown",
   "metadata": {},
   "source": [
    "# Jupyter Notebook GenoRobotics Full Pipeline"
   ]
  },
  {
   "cell_type": "markdown",
   "metadata": {},
   "source": [
    "## Imports"
   ]
  },
  {
   "cell_type": "code",
   "execution_count": 1,
   "metadata": {},
   "outputs": [],
   "source": [
    "%load_ext autoreload\n",
    "%autoreload 2"
   ]
  },
  {
   "cell_type": "code",
   "execution_count": 2,
   "metadata": {},
   "outputs": [
    {
     "name": "stderr",
     "output_type": "stream",
     "text": [
      "c:\\Users\\milou\\anaconda3\\Lib\\site-packages\\Bio\\pairwise2.py:278: BiopythonDeprecationWarning: Bio.pairwise2 has been deprecated, and we intend to remove it in a future release of Biopython. As an alternative, please consider using Bio.Align.PairwiseAligner as a replacement, and contact the Biopython developers if you still need the Bio.pairwise2 module.\n",
      "  warnings.warn(\n"
     ]
    }
   ],
   "source": [
    "import os\n",
    "\n",
    "from lib.consensus.consensus import run_consensus\n",
    "from lib.identification.identification import run_identification\n",
    "from lib.general_helpers.process_fastq import concatenate_fastq"
   ]
  },
  {
   "cell_type": "markdown",
   "metadata": {},
   "source": [
    "## Define Your File and Folder Paths\n",
    "\n",
    "- Modify the \"input_fastq_filename\" variable to point to the fastq you want to use as input. \n",
    "  \n",
    "- Modify wsl if you're on Windows and want to use WSL."
   ]
  },
  {
   "cell_type": "code",
   "execution_count": 3,
   "metadata": {},
   "outputs": [],
   "source": [
    "input_fastq_filename = \"rbcL_Qiagen_tomato_5000.fastq\"\n",
    "windows = True"
   ]
  },
  {
   "cell_type": "code",
   "execution_count": 4,
   "metadata": {},
   "outputs": [],
   "source": [
    "input_fastq_path = os.path.join(\"assets\",\"input\", input_fastq_filename)\n",
    "base_name = os.path.splitext(input_fastq_filename)[0]"
   ]
  },
  {
   "cell_type": "markdown",
   "metadata": {},
   "source": [
    "## Run Preprocessing (Optional)\n",
    "\n",
    "- If you want to preprocess your data, run the following cell. Otherwise, skip to the next cell.\n",
    "- For now, preprocessing consists of concatenating all the fastq files in a folder into one file. This is useful if you have multiple fastq files for one sample. You'll have to change the first parameter in the \"concatenate_fastq_files\" function to point to the folder containing your fastq files."
   ]
  },
  {
   "cell_type": "code",
   "execution_count": 5,
   "metadata": {},
   "outputs": [],
   "source": [
    "# preprocessing()\n",
    "#concatenate_fastq(os.path.join(\"assets\", \"input\", \"barcode74\"), input_fastq_path)"
   ]
  },
  {
   "cell_type": "markdown",
   "metadata": {},
   "source": [
    "## Run Consensus Sequence Generation\n",
    "\n",
    "Select which consensus sequence generation method you want to use by setting the \"consensus_method\" variable to either:\n",
    "\n",
    "- \"majority\" (default)\n",
    "\n",
    "- \"consensus\"\n",
    "\n",
    "- \"consensus_with_ambiguities\""
   ]
  },
  {
   "cell_type": "code",
   "execution_count": 6,
   "metadata": {},
   "outputs": [
    {
     "name": "stdout",
     "output_type": "stream",
     "text": [
      "Logging set up at assets\\output\\post\\rbcL_Qiagen_tomato_5000\\consensus/rbcL_Qiagen_tomato_5000_consensus_pipeline_log.log\n"
     ]
    },
    {
     "data": {
      "text/plain": [
       "(0.08867907524108887, 0.05871701240539551, 0.02996206283569336)"
      ]
     },
     "execution_count": 6,
     "metadata": {},
     "output_type": "execute_result"
    }
   ],
   "source": [
    "# choose a consensus method between the following:\n",
    "# - \"80_20_best_sequence\"\n",
    "# - \"80_20_longest_sequence\"\n",
    "# - \"straightforward_best_sequence\"\n",
    "\n",
    "# consensus_method = \"straightforward_best_sequence\"\n",
    "consensus_method = \"80_20_best_sequence\"\n",
    "\n",
    "run_consensus(input_name= base_name, \n",
    "              input_fastq_path= input_fastq_path, \n",
    "              consensus_method= consensus_method,\n",
    "              windows= windows)"
   ]
  },
  {
   "cell_type": "markdown",
   "metadata": {},
   "source": [
    "## Run Identification of Consensus Sequence\n",
    "- Run the following cell to identify the consensus sequence.\n",
    "- Change db to the database you want to use. Options are \"matK\", \"rbcL\", \"psbA-trnH\" and \"ITS\". If you want to use all of them, set db to None."
   ]
  },
  {
   "cell_type": "code",
   "execution_count": 7,
   "metadata": {},
   "outputs": [
    {
     "name": "stdout",
     "output_type": "stream",
     "text": [
      "Logging set up at assets\\output\\post\\rbcL_Qiagen_tomato_5000\\identification/rbcL_Qiagen_tomato_5000_identification_pipeline_log.log\n"
     ]
    },
    {
     "ename": "FileNotFoundError",
     "evalue": "[Errno 2] No such file or directory: 'assets\\\\output\\\\post\\\\rbcL_Qiagen_tomato_5000\\\\identification\\\\matK.txt'",
     "output_type": "error",
     "traceback": [
      "\u001b[1;31m---------------------------------------------------------------------------\u001b[0m",
      "\u001b[1;31mFileNotFoundError\u001b[0m                         Traceback (most recent call last)",
      "Cell \u001b[1;32mIn[7], line 9\u001b[0m\n\u001b[0;32m      6\u001b[0m \u001b[38;5;66;03m# Choose your db along the gene you're trying to identify : matK, rbcL, psbA-trnH or ITS\u001b[39;00m\n\u001b[0;32m      7\u001b[0m db \u001b[38;5;241m=\u001b[39m \u001b[38;5;124m\"\u001b[39m\u001b[38;5;124mmatK\u001b[39m\u001b[38;5;124m\"\u001b[39m\n\u001b[1;32m----> 9\u001b[0m run_identification(base_name, db\u001b[38;5;241m=\u001b[39mdb, identification_method\u001b[38;5;241m=\u001b[39midentification_method)\n\u001b[0;32m     11\u001b[0m \u001b[38;5;28mprint\u001b[39m(\u001b[38;5;124m\"\u001b[39m\u001b[38;5;124mPipeline finished !\u001b[39m\u001b[38;5;124m\"\u001b[39m)\n\u001b[0;32m     12\u001b[0m \u001b[38;5;28mprint\u001b[39m(\u001b[38;5;124m\"\u001b[39m\u001b[38;5;124mYou can find your results in the \u001b[39m\u001b[38;5;124m'\u001b[39m\u001b[38;5;124massets/output/post/inputName/identification/\u001b[39m\u001b[38;5;124m'\u001b[39m\u001b[38;5;124m folder\u001b[39m\u001b[38;5;124m\"\u001b[39m)\n",
      "File \u001b[1;32mc:\\Users\\milou\\OneDrive\\Bureau\\Milou\\MA3\\Geno\\pipeline\\awenMilouGeno\\src\\lib\\identification\\identification.py:45\u001b[0m, in \u001b[0;36mrun_identification\u001b[1;34m(input_name, expedition_name, input_path, output_dir, db, logger, identification_method, windows)\u001b[0m\n\u001b[0;32m     43\u001b[0m logger\u001b[38;5;241m.\u001b[39minfo(\u001b[38;5;124mf\u001b[39m\u001b[38;5;124m\"\u001b[39m\u001b[38;5;124mXML files : \u001b[39m\u001b[38;5;132;01m{\u001b[39;00mxml_files\u001b[38;5;132;01m}\u001b[39;00m\u001b[38;5;124m\"\u001b[39m)\n\u001b[0;32m     44\u001b[0m \u001b[38;5;28;01mfor\u001b[39;00m xml_file, db \u001b[38;5;129;01min\u001b[39;00m xml_files:\n\u001b[1;32m---> 45\u001b[0m     best_species \u001b[38;5;241m=\u001b[39m get_best_species_from_xml(xml_file)\n\u001b[0;32m     46\u001b[0m     logger\u001b[38;5;241m.\u001b[39minfo(\u001b[38;5;124mf\u001b[39m\u001b[38;5;124m\"\u001b[39m\u001b[38;5;124mBest species for \u001b[39m\u001b[38;5;132;01m{\u001b[39;00mdb\u001b[38;5;132;01m}\u001b[39;00m\u001b[38;5;124m is \u001b[39m\u001b[38;5;132;01m{\u001b[39;00mbest_species[\u001b[38;5;241m0\u001b[39m]\u001b[38;5;132;01m}\u001b[39;00m\u001b[38;5;124m with alignment \u001b[39m\u001b[38;5;132;01m{\u001b[39;00mbest_species[\u001b[38;5;241m1\u001b[39m][\u001b[38;5;241m0\u001b[39m]\u001b[38;5;132;01m}\u001b[39;00m\u001b[38;5;124m and evalue \u001b[39m\u001b[38;5;132;01m{\u001b[39;00mbest_species[\u001b[38;5;241m1\u001b[39m][\u001b[38;5;241m1\u001b[39m]\u001b[38;5;132;01m}\u001b[39;00m\u001b[38;5;124m\"\u001b[39m)\n\u001b[0;32m     48\u001b[0m     best_species_info[db] \u001b[38;5;241m=\u001b[39m {\n\u001b[0;32m     49\u001b[0m         \u001b[38;5;124m\"\u001b[39m\u001b[38;5;124mspecies\u001b[39m\u001b[38;5;124m\"\u001b[39m: best_species[\u001b[38;5;241m0\u001b[39m],\n\u001b[0;32m     50\u001b[0m         \u001b[38;5;124m\"\u001b[39m\u001b[38;5;124malignment\u001b[39m\u001b[38;5;124m\"\u001b[39m: best_species[\u001b[38;5;241m1\u001b[39m][\u001b[38;5;241m0\u001b[39m],\n\u001b[0;32m     51\u001b[0m         \u001b[38;5;124m\"\u001b[39m\u001b[38;5;124mevalue\u001b[39m\u001b[38;5;124m\"\u001b[39m: best_species[\u001b[38;5;241m1\u001b[39m][\u001b[38;5;241m1\u001b[39m]\n\u001b[0;32m     52\u001b[0m     }\n",
      "File \u001b[1;32mc:\\Users\\milou\\OneDrive\\Bureau\\Milou\\MA3\\Geno\\pipeline\\awenMilouGeno\\src\\lib\\identification\\identification_pipelines\\identification_processing.py:107\u001b[0m, in \u001b[0;36mget_best_species_from_xml\u001b[1;34m(input_xml)\u001b[0m\n\u001b[0;32m     93\u001b[0m \u001b[38;5;28;01mdef\u001b[39;00m \u001b[38;5;21mget_best_species_from_xml\u001b[39m(input_xml: \u001b[38;5;28mstr\u001b[39m) \u001b[38;5;241m-\u001b[39m\u001b[38;5;241m>\u001b[39m \u001b[38;5;28mtuple\u001b[39m[\u001b[38;5;28mstr\u001b[39m, \u001b[38;5;28mtuple\u001b[39m[\u001b[38;5;28mint\u001b[39m, \u001b[38;5;28mint\u001b[39m]] :\n\u001b[0;32m     94\u001b[0m \u001b[38;5;250m    \u001b[39m\u001b[38;5;124;03m\"\"\"\u001b[39;00m\n\u001b[0;32m     95\u001b[0m \u001b[38;5;124;03m    Get the best species from a blastn XML file, by following these steps:\u001b[39;00m\n\u001b[0;32m     96\u001b[0m \u001b[38;5;124;03m    1. Parse the XML file.\u001b[39;00m\n\u001b[1;32m   (...)\u001b[0m\n\u001b[0;32m    105\u001b[0m \u001b[38;5;124;03m    tuple[str, tuple[int, int]]: A tuple containing the best species name and a tuple of two integers representing the start and end positions of the best species in the input XML file.\u001b[39;00m\n\u001b[0;32m    106\u001b[0m \u001b[38;5;124;03m    \"\"\"\u001b[39;00m\n\u001b[1;32m--> 107\u001b[0m     results \u001b[38;5;241m=\u001b[39m parse_blastn_xml(input_xml)\n\u001b[0;32m    108\u001b[0m     species \u001b[38;5;241m=\u001b[39m separate_by_species(results)\n\u001b[0;32m    109\u001b[0m     reduced_results \u001b[38;5;241m=\u001b[39m reduce_species_results(species)\n",
      "File \u001b[1;32mc:\\Users\\milou\\OneDrive\\Bureau\\Milou\\MA3\\Geno\\pipeline\\awenMilouGeno\\src\\lib\\identification\\identification_pipelines\\identification_processing.py:14\u001b[0m, in \u001b[0;36mparse_blastn_xml\u001b[1;34m(input_xml)\u001b[0m\n\u001b[0;32m      3\u001b[0m \u001b[38;5;28;01mdef\u001b[39;00m \u001b[38;5;21mparse_blastn_xml\u001b[39m(input_xml: \u001b[38;5;28mstr\u001b[39m) \u001b[38;5;241m-\u001b[39m\u001b[38;5;241m>\u001b[39m \u001b[38;5;28mlist\u001b[39m[\u001b[38;5;28mtuple\u001b[39m[\u001b[38;5;28mstr\u001b[39m, \u001b[38;5;28mint\u001b[39m, \u001b[38;5;28mint\u001b[39m, \u001b[38;5;28mint\u001b[39m]]:\n\u001b[0;32m      4\u001b[0m \u001b[38;5;250m    \u001b[39m\u001b[38;5;124;03m\"\"\"\u001b[39;00m\n\u001b[0;32m      5\u001b[0m \u001b[38;5;124;03m    Parses a blastn XML file and extracts relevant information from it.\u001b[39;00m\n\u001b[0;32m      6\u001b[0m \n\u001b[1;32m   (...)\u001b[0m\n\u001b[0;32m     12\u001b[0m \u001b[38;5;124;03m        percentage identity, expect value, and alignment length for each alignment in the XML file.\u001b[39;00m\n\u001b[0;32m     13\u001b[0m \u001b[38;5;124;03m    \"\"\"\u001b[39;00m\n\u001b[1;32m---> 14\u001b[0m     \u001b[38;5;28;01mwith\u001b[39;00m \u001b[38;5;28mopen\u001b[39m(input_xml) \u001b[38;5;28;01mas\u001b[39;00m file:\n\u001b[0;32m     15\u001b[0m         blast_records \u001b[38;5;241m=\u001b[39m NCBIXML\u001b[38;5;241m.\u001b[39mparse(file)\n\u001b[0;32m     16\u001b[0m         results \u001b[38;5;241m=\u001b[39m []\n",
      "\u001b[1;31mFileNotFoundError\u001b[0m: [Errno 2] No such file or directory: 'assets\\\\output\\\\post\\\\rbcL_Qiagen_tomato_5000\\\\identification\\\\matK.txt'"
     ]
    }
   ],
   "source": [
    "# choose an identification method between the following:\n",
    "# - \"blastn\"\n",
    "\n",
    "identification_method = \"blastn\"\n",
    "\n",
    "# Choose your db along the gene you're trying to identify : matK, rbcL, psbA-trnH or ITS\n",
    "db = \"matK\"\n",
    "\n",
    "run_identification(base_name, db=db, identification_method=identification_method, windows=windows)\n",
    "\n",
    "print(\"Pipeline finished !\")\n",
    "print(\"You can find your results in the 'assets/output/post/inputName/identification/' folder\")"
   ]
  },
  {
   "cell_type": "code",
   "execution_count": null,
   "metadata": {},
   "outputs": [],
   "source": []
  }
 ],
 "metadata": {
  "kernelspec": {
   "display_name": "base",
   "language": "python",
   "name": "python3"
  },
  "language_info": {
   "codemirror_mode": {
    "name": "ipython",
    "version": 3
   },
   "file_extension": ".py",
   "mimetype": "text/x-python",
   "name": "python",
   "nbconvert_exporter": "python",
   "pygments_lexer": "ipython3",
   "version": "3.11.5"
  }
 },
 "nbformat": 4,
 "nbformat_minor": 2
}
