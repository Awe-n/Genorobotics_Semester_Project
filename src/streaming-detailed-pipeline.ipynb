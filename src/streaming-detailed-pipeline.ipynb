{
 "cells": [
  {
   "cell_type": "markdown",
   "metadata": {},
   "source": [
    "# Imports"
   ]
  },
  {
   "cell_type": "code",
   "execution_count": 20,
   "metadata": {},
   "outputs": [
    {
     "name": "stdout",
     "output_type": "stream",
     "text": [
      "The autoreload extension is already loaded. To reload it, use:\n",
      "  %reload_ext autoreload\n"
     ]
    }
   ],
   "source": [
    "%load_ext autoreload\n",
    "%autoreload 2"
   ]
  },
  {
   "cell_type": "code",
   "execution_count": 21,
   "metadata": {},
   "outputs": [],
   "source": [
    "# Import necessary modules\n",
    "import os\n",
    "from lib.streaming.streaming import run_streaming"
   ]
  },
  {
   "cell_type": "markdown",
   "metadata": {},
   "source": [
    "# Variables"
   ]
  },
  {
   "cell_type": "code",
   "execution_count": 22,
   "metadata": {},
   "outputs": [],
   "source": [
    "# input_fastq_filename = \"test-combined.fastq\"\n",
    "input_fastq_filename = \"rbcL_Qiagen_tomato_5000.fastq\"\n",
    "windows = True\n",
    "db = \"matK\""
   ]
  },
  {
   "cell_type": "code",
   "execution_count": 23,
   "metadata": {},
   "outputs": [],
   "source": [
    "input_fastq_path = os.path.join(\"assets\",\"input\", input_fastq_filename)\n",
    "base_name = os.path.splitext(input_fastq_filename)[0]"
   ]
  },
  {
   "cell_type": "markdown",
   "metadata": {},
   "source": [
    "# Streaming Pipeline"
   ]
  },
  {
   "cell_type": "code",
   "execution_count": 25,
   "metadata": {},
   "outputs": [
    {
     "name": "stdout",
     "output_type": "stream",
     "text": [
      "Logging set up at assets\\output\\streaming\\rbcL_Qiagen_tomato_5000/rbcL_Qiagen_tomato_5000_streaming_pipeline_log.log\n",
      "Block 1 saved at assets\\output\\streaming\\rbcL_Qiagen_tomato_5000\\block_1\n",
      "blastn -query assets/output/streaming/rbcL_Qiagen_tomato_5000/block_1/consensus/block_1_final_consensus.fasta -db matK -out assets/output/streaming/rbcL_Qiagen_tomato_5000/block_1/identification/matK.txt -max_target_seqs 20 -outfmt 5\n",
      "Block 2 saved at assets\\output\\streaming\\rbcL_Qiagen_tomato_5000\\block_2\n",
      "blastn -query assets/output/streaming/rbcL_Qiagen_tomato_5000/block_2/consensus/block_2_final_consensus.fasta -db matK -out assets/output/streaming/rbcL_Qiagen_tomato_5000/block_2/identification/matK.txt -max_target_seqs 20 -outfmt 5\n",
      "Block 3 saved at assets\\output\\streaming\\rbcL_Qiagen_tomato_5000\\block_3\n",
      "blastn -query assets/output/streaming/rbcL_Qiagen_tomato_5000/block_3/consensus/block_3_final_consensus.fasta -db matK -out assets/output/streaming/rbcL_Qiagen_tomato_5000/block_3/identification/matK.txt -max_target_seqs 20 -outfmt 5\n",
      "Block 4 saved at assets\\output\\streaming\\rbcL_Qiagen_tomato_5000\\block_4\n",
      "blastn -query assets/output/streaming/rbcL_Qiagen_tomato_5000/block_4/consensus/block_4_final_consensus.fasta -db matK -out assets/output/streaming/rbcL_Qiagen_tomato_5000/block_4/identification/matK.txt -max_target_seqs 20 -outfmt 5\n",
      "Block 5 saved at assets\\output\\streaming\\rbcL_Qiagen_tomato_5000\\block_5\n",
      "blastn -query assets/output/streaming/rbcL_Qiagen_tomato_5000/block_5/consensus/block_5_final_consensus.fasta -db matK -out assets/output/streaming/rbcL_Qiagen_tomato_5000/block_5/identification/matK.txt -max_target_seqs 20 -outfmt 5\n",
      "Block 6 saved at assets\\output\\streaming\\rbcL_Qiagen_tomato_5000\\block_6\n",
      "blastn -query assets/output/streaming/rbcL_Qiagen_tomato_5000/block_6/consensus/block_6_final_consensus.fasta -db matK -out assets/output/streaming/rbcL_Qiagen_tomato_5000/block_6/identification/matK.txt -max_target_seqs 20 -outfmt 5\n",
      "Block 7 saved at assets\\output\\streaming\\rbcL_Qiagen_tomato_5000\\block_7\n",
      "blastn -query assets/output/streaming/rbcL_Qiagen_tomato_5000/block_7/consensus/block_7_final_consensus.fasta -db matK -out assets/output/streaming/rbcL_Qiagen_tomato_5000/block_7/identification/matK.txt -max_target_seqs 20 -outfmt 5\n",
      "Block 8 saved at assets\\output\\streaming\\rbcL_Qiagen_tomato_5000\\block_8\n",
      "blastn -query assets/output/streaming/rbcL_Qiagen_tomato_5000/block_8/consensus/block_8_final_consensus.fasta -db matK -out assets/output/streaming/rbcL_Qiagen_tomato_5000/block_8/identification/matK.txt -max_target_seqs 20 -outfmt 5\n",
      "Block 9 saved at assets\\output\\streaming\\rbcL_Qiagen_tomato_5000\\block_9\n",
      "blastn -query assets/output/streaming/rbcL_Qiagen_tomato_5000/block_9/consensus/block_9_final_consensus.fasta -db matK -out assets/output/streaming/rbcL_Qiagen_tomato_5000/block_9/identification/matK.txt -max_target_seqs 20 -outfmt 5\n",
      "Block 10 saved at assets\\output\\streaming\\rbcL_Qiagen_tomato_5000\\block_10\n",
      "blastn -query assets/output/streaming/rbcL_Qiagen_tomato_5000/block_10/consensus/block_10_final_consensus.fasta -db matK -out assets/output/streaming/rbcL_Qiagen_tomato_5000/block_10/identification/matK.txt -max_target_seqs 20 -outfmt 5\n"
     ]
    }
   ],
   "source": [
    "# choose a streaming method between the following:\n",
    "# - \"basic_streaming\"\n",
    "\n",
    "streaming_method = \"basic_streaming\"\n",
    "\n",
    "# choose a consensus method between the following:\n",
    "# - \"80_20_best_sequence\"\n",
    "# - \"80_20_longest_sequence\"\n",
    "# - \"straightforward_best_sequence\"\n",
    "\n",
    "consensus_method = \"80_20_best_sequence\"\n",
    "\n",
    "# choose an identification method between the following:\n",
    "# - \"blastn\"\n",
    "\n",
    "identification_method = \"blastn\"\n",
    "\n",
    "# define the streaming parameters\n",
    "species_identification_percentage_dominance = 0.7\n",
    "block_size = 250\n",
    "minimum_block_amount_before_dominance_check = 5\n",
    "\n",
    "run_streaming(input_name= base_name, \n",
    "              input_fastq_path= input_fastq_path, \n",
    "              streaming_method= streaming_method,\n",
    "              db= db,\n",
    "              windows= windows,\n",
    "              species_identification_percentage_dominance=species_identification_percentage_dominance,\n",
    "              block_size=block_size,\n",
    "              minimum_block_amount_before_dominance_check=minimum_block_amount_before_dominance_check,\n",
    "              consensus_method=consensus_method,\n",
    "              identification_method=identification_method)"
   ]
  },
  {
   "cell_type": "code",
   "execution_count": null,
   "metadata": {},
   "outputs": [],
   "source": []
  }
 ],
 "metadata": {
  "kernelspec": {
   "display_name": "GenoRobotics_bioinfo_consensus",
   "language": "python",
   "name": "python3"
  },
  "language_info": {
   "codemirror_mode": {
    "name": "ipython",
    "version": 3
   },
   "file_extension": ".py",
   "mimetype": "text/x-python",
   "name": "python",
   "nbconvert_exporter": "python",
   "pygments_lexer": "ipython3",
   "version": "3.11.5"
  }
 },
 "nbformat": 4,
 "nbformat_minor": 2
}
