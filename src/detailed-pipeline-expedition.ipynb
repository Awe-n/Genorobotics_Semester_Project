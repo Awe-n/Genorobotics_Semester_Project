{
 "cells": [
  {
   "cell_type": "markdown",
   "metadata": {},
   "source": [
    "# Jupyter Notebook GenoRobotics Full Pipeline"
   ]
  },
  {
   "cell_type": "markdown",
   "metadata": {},
   "source": [
    "## Imports"
   ]
  },
  {
   "cell_type": "code",
   "execution_count": 5,
   "metadata": {},
   "outputs": [],
   "source": [
    "%load_ext autoreload\n",
    "%autoreload 2"
   ]
  },
  {
   "cell_type": "code",
   "execution_count": 16,
   "metadata": {},
   "outputs": [],
   "source": [
    "import os\n",
    "from lib.consensus.consensus import run_consensus\n",
    "from lib.identification.identification import run_identification\n",
    "from lib.general_helpers.process_fastq import concatenate_fastq, extract_gz\n",
    "from lib.general_helpers.configure_loggers import get_logger"
   ]
  },
  {
   "cell_type": "markdown",
   "metadata": {},
   "source": [
    "## Define Your File and Folder Paths\n",
    "\n",
    "- Modify the \"expedition_folder\" variable to point to the folder containing your expedition data. \n",
    "- Modify the \"consensus_method\" variable to be either \"80_20_best_sequence\", \"80_20_longest_sequence\" or \"streaming\" (default is \"80_20_best_sequence\")\n",
    "- Set windows to True if you are on Windows and want the commands to be run in WSL (useful for consensus, which uses minimap2 and racon, which are not available on Windows)\n"
   ]
  },
  {
   "cell_type": "code",
   "execution_count": 7,
   "metadata": {},
   "outputs": [],
   "source": [
    "expedition_folder = \"matK_rbcL_trnh_ITS_27samples_Jardin_botanique_1st\"\n",
    "consensus_method = \"80_20_best_sequence\"\n",
    "windows = True"
   ]
  },
  {
   "cell_type": "markdown",
   "metadata": {},
   "source": [
    "## Run Identification of Consensus Sequence"
   ]
  },
  {
   "cell_type": "code",
   "execution_count": 21,
   "metadata": {},
   "outputs": [
    {
     "name": "stdout",
     "output_type": "stream",
     "text": [
      "Processing barcode folder: unclassified, still in progress : 97.73%\n",
      "Done!\n"
     ]
    }
   ],
   "source": [
    "input_base = os.path.join('assets/input', expedition_folder)\n",
    "log_path = os.path.join('assets/log/', expedition_folder)\n",
    "os.makedirs(log_path, exist_ok=True)\n",
    "logger = get_logger(expedition_folder, log_path, expedition_folder)\n",
    "print(f\"Logging to {log_path}\")\n",
    "logger.info(f\"Starting processing for expedition {expedition_folder}\")\n",
    "\n",
    "for root, dirs, files in os.walk(input_base):\n",
    "        if root.endswith('fastq_pass'):\n",
    "            i = 0\n",
    "            for barcode_folder in dirs:\n",
    "                logger.info(f\"Processing barcode folder: {barcode_folder}, still in progress : {i/len(dirs)*100:.2f}%\")\n",
    "                print(end='\\x1b[2K')\n",
    "                print(f\"\\rProcessing barcode folder: {barcode_folder}, still in progress : {i/len(dirs)*100:.2f}%\", end='', flush=True)\n",
    "                barcode_path = os.path.join(root, barcode_folder)\n",
    "                output_fastq = os.path.join(barcode_path, f\"{barcode_folder}.fastq\")\n",
    "                intermediate_files = []\n",
    "\n",
    "                # Extract .gz files and concatenate them into a single .fastq file, then generate the consensus sequence from it if it doesn't exist yet\n",
    "                if not os.path.isfile(output_fastq):\n",
    "                    logger.info(f\"Extracting and concatenating files for barcode folder {barcode_folder}\")\n",
    "                    for file in os.listdir(barcode_path):\n",
    "                        if file.endswith('.gz'):\n",
    "                            src_file = os.path.join(barcode_path, file)\n",
    "                            dst_file = os.path.join(barcode_path, file[:-3])\n",
    "                            extract_gz(src_file, dst_file)\n",
    "                            intermediate_files.append(dst_file)\n",
    "\n",
    "                    concatenate_fastq(barcode_path, output_fastq)\n",
    "\n",
    "                    logger.info(f\"Running consensus for barcode folder {barcode_folder}\")\n",
    "                    run_consensus(barcode_folder, output_fastq, consensus_method, barcode_path, windows=windows)\n",
    "                else :\n",
    "                    logger.info(f\"Consensus already computed for barcode folder {barcode_folder}\")\n",
    "\n",
    "                # Run identification if the consensus sequence exists\n",
    "                if os.path.getsize(os.path.join(barcode_path, f\"{barcode_folder}_final_consensus.fasta\")) != 0 :\n",
    "                    logger.info(f\"Running identification for barcode folder {barcode_folder}\")\n",
    "                    run_identification(barcode_folder, expedition_name=expedition_folder, input_path=barcode_path, logger=logger)\n",
    "                else :\n",
    "                    logger.info(f\"No consensus found for barcode folder {barcode_folder}\")\n",
    "\n",
    "\n",
    "                # Delete intermediary files\n",
    "                for file in intermediate_files:\n",
    "                    os.remove(file)\n",
    "\n",
    "                i += 1\n",
    "print(end='\\x1b[2K')\n",
    "print(\"\\rProcessing barcode folder: Done! 100.00%\")"
   ]
  }
 ],
 "metadata": {
  "kernelspec": {
   "display_name": "base",
   "language": "python",
   "name": "python3"
  },
  "language_info": {
   "codemirror_mode": {
    "name": "ipython",
    "version": 3
   },
   "file_extension": ".py",
   "mimetype": "text/x-python",
   "name": "python",
   "nbconvert_exporter": "python",
   "pygments_lexer": "ipython3",
   "version": "3.11.5"
  }
 },
 "nbformat": 4,
 "nbformat_minor": 2
}
